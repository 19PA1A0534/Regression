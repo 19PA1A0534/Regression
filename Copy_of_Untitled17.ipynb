{
  "nbformat": 4,
  "nbformat_minor": 0,
  "metadata": {
    "colab": {
      "name": "Copy of Untitled17.ipynb",
      "provenance": [],
      "collapsed_sections": [],
      "authorship_tag": "ABX9TyM1380v8yTb6bB/TebLX9sY",
      "include_colab_link": true
    },
    "kernelspec": {
      "name": "python3",
      "display_name": "Python 3"
    }
  },
  "cells": [
    {
      "cell_type": "markdown",
      "metadata": {
        "id": "view-in-github",
        "colab_type": "text"
      },
      "source": [
        "<a href=\"https://colab.research.google.com/github/19PA1A0534/VITBML-EDA2/blob/master/Copy_of_Untitled17.ipynb\" target=\"_parent\"><img src=\"https://colab.research.google.com/assets/colab-badge.svg\" alt=\"Open In Colab\"/></a>"
      ]
    },
    {
      "cell_type": "markdown",
      "metadata": {
        "id": "s5pGnNcAFM-L",
        "colab_type": "text"
      },
      "source": [
        "#Logistic Regression Algorithm"
      ]
    },
    {
      "cell_type": "code",
      "metadata": {
        "id": "qB2YEgDa4elz",
        "colab_type": "code",
        "outputId": "2fc65278-cc32-4e65-9464-096fbc393231",
        "colab": {
          "base_uri": "https://localhost:8080/",
          "height": 218
        }
      },
      "source": [
        "import pandas as pd#importing the libraries\n",
        "import matplotlib.pyplot as plt\n",
        "import seaborn as sns\n",
        "df=pd.read_csv('/content/diabetes.csv')#reading the given dataset\n",
        "df.head()#printing the first 5 rows in the dataset"
      ],
      "execution_count": 3,
      "outputs": [
        {
          "output_type": "execute_result",
          "data": {
            "text/html": [
              "<div>\n",
              "<style scoped>\n",
              "    .dataframe tbody tr th:only-of-type {\n",
              "        vertical-align: middle;\n",
              "    }\n",
              "\n",
              "    .dataframe tbody tr th {\n",
              "        vertical-align: top;\n",
              "    }\n",
              "\n",
              "    .dataframe thead th {\n",
              "        text-align: right;\n",
              "    }\n",
              "</style>\n",
              "<table border=\"1\" class=\"dataframe\">\n",
              "  <thead>\n",
              "    <tr style=\"text-align: right;\">\n",
              "      <th></th>\n",
              "      <th>Pregnancies</th>\n",
              "      <th>Glucose</th>\n",
              "      <th>BloodPressure</th>\n",
              "      <th>SkinThickness</th>\n",
              "      <th>Insulin</th>\n",
              "      <th>BMI</th>\n",
              "      <th>DiabetesPedigreeFunction</th>\n",
              "      <th>Age</th>\n",
              "      <th>Outcome</th>\n",
              "    </tr>\n",
              "  </thead>\n",
              "  <tbody>\n",
              "    <tr>\n",
              "      <th>0</th>\n",
              "      <td>6</td>\n",
              "      <td>148</td>\n",
              "      <td>72</td>\n",
              "      <td>35</td>\n",
              "      <td>0</td>\n",
              "      <td>33.6</td>\n",
              "      <td>0.627</td>\n",
              "      <td>50</td>\n",
              "      <td>1</td>\n",
              "    </tr>\n",
              "    <tr>\n",
              "      <th>1</th>\n",
              "      <td>1</td>\n",
              "      <td>85</td>\n",
              "      <td>66</td>\n",
              "      <td>29</td>\n",
              "      <td>0</td>\n",
              "      <td>26.6</td>\n",
              "      <td>0.351</td>\n",
              "      <td>31</td>\n",
              "      <td>0</td>\n",
              "    </tr>\n",
              "    <tr>\n",
              "      <th>2</th>\n",
              "      <td>8</td>\n",
              "      <td>183</td>\n",
              "      <td>64</td>\n",
              "      <td>0</td>\n",
              "      <td>0</td>\n",
              "      <td>23.3</td>\n",
              "      <td>0.672</td>\n",
              "      <td>32</td>\n",
              "      <td>1</td>\n",
              "    </tr>\n",
              "    <tr>\n",
              "      <th>3</th>\n",
              "      <td>1</td>\n",
              "      <td>89</td>\n",
              "      <td>66</td>\n",
              "      <td>23</td>\n",
              "      <td>94</td>\n",
              "      <td>28.1</td>\n",
              "      <td>0.167</td>\n",
              "      <td>21</td>\n",
              "      <td>0</td>\n",
              "    </tr>\n",
              "    <tr>\n",
              "      <th>4</th>\n",
              "      <td>0</td>\n",
              "      <td>137</td>\n",
              "      <td>40</td>\n",
              "      <td>35</td>\n",
              "      <td>168</td>\n",
              "      <td>43.1</td>\n",
              "      <td>2.288</td>\n",
              "      <td>33</td>\n",
              "      <td>1</td>\n",
              "    </tr>\n",
              "  </tbody>\n",
              "</table>\n",
              "</div>"
            ],
            "text/plain": [
              "   Pregnancies  Glucose  BloodPressure  ...  DiabetesPedigreeFunction  Age  Outcome\n",
              "0            6      148             72  ...                     0.627   50        1\n",
              "1            1       85             66  ...                     0.351   31        0\n",
              "2            8      183             64  ...                     0.672   32        1\n",
              "3            1       89             66  ...                     0.167   21        0\n",
              "4            0      137             40  ...                     2.288   33        1\n",
              "\n",
              "[5 rows x 9 columns]"
            ]
          },
          "metadata": {
            "tags": []
          },
          "execution_count": 3
        }
      ]
    },
    {
      "cell_type": "code",
      "metadata": {
        "id": "A7E4__4t8DQF",
        "colab_type": "code",
        "outputId": "4cad74c3-e6a5-4556-c62c-7fc6f0f3d751",
        "colab": {
          "base_uri": "https://localhost:8080/",
          "height": 35
        }
      },
      "source": [
        "df.shape#printing the rows and columns in the dataset"
      ],
      "execution_count": 4,
      "outputs": [
        {
          "output_type": "execute_result",
          "data": {
            "text/plain": [
              "(768, 9)"
            ]
          },
          "metadata": {
            "tags": []
          },
          "execution_count": 4
        }
      ]
    },
    {
      "cell_type": "code",
      "metadata": {
        "id": "Z5o9Lj5u8FZk",
        "colab_type": "code",
        "colab": {}
      },
      "source": [
        "from sklearn.model_selection import train_test_split#importing the train test split method from scikit learn\n",
        "from sklearn.linear_model import LogisticRegression#importing the logistic regression function\n",
        "from sklearn.metrics import confusion_matrix,accuracy_score,roc_auc_score,mean_absolute_error,classification_report#importing the errors"
      ],
      "execution_count": 0,
      "outputs": []
    },
    {
      "cell_type": "code",
      "metadata": {
        "id": "zxPl7xDw8xyV",
        "colab_type": "code",
        "colab": {}
      },
      "source": [
        "#Taking the independent variables or eploratory variables\n",
        "x=df[['Pregnancies','Glucose','BloodPressure','SkinThickness','Insulin','BMI','DiabetesPedigreeFunction','Age']]"
      ],
      "execution_count": 0,
      "outputs": []
    },
    {
      "cell_type": "code",
      "metadata": {
        "id": "bTPaISq_-Bvz",
        "colab_type": "code",
        "colab": {}
      },
      "source": [
        "#Taking the dependent variable\n",
        "y=df['Outcome']"
      ],
      "execution_count": 0,
      "outputs": []
    },
    {
      "cell_type": "code",
      "metadata": {
        "id": "LpBfn5-t-JL9",
        "colab_type": "code",
        "colab": {}
      },
      "source": [
        "# splitting our data\n",
        "x_train,x_test,y_train,y_test=train_test_split(x,y,test_size=0.2,random_state=2)"
      ],
      "execution_count": 0,
      "outputs": []
    },
    {
      "cell_type": "code",
      "metadata": {
        "id": "tSiVb1pL-XGd",
        "colab_type": "code",
        "outputId": "bd972d14-af11-4d45-c004-699e12552358",
        "colab": {
          "base_uri": "https://localhost:8080/",
          "height": 274
        }
      },
      "source": [
        "# creating a model\n",
        "model= LogisticRegression()\n",
        "model.fit(x_train,y_train)\n"
      ],
      "execution_count": 0,
      "outputs": [
        {
          "output_type": "stream",
          "text": [
            "/usr/local/lib/python3.6/dist-packages/sklearn/linear_model/_logistic.py:940: ConvergenceWarning: lbfgs failed to converge (status=1):\n",
            "STOP: TOTAL NO. of ITERATIONS REACHED LIMIT.\n",
            "\n",
            "Increase the number of iterations (max_iter) or scale the data as shown in:\n",
            "    https://scikit-learn.org/stable/modules/preprocessing.html\n",
            "Please also refer to the documentation for alternative solver options:\n",
            "    https://scikit-learn.org/stable/modules/linear_model.html#logistic-regression\n",
            "  extra_warning_msg=_LOGISTIC_SOLVER_CONVERGENCE_MSG)\n"
          ],
          "name": "stderr"
        },
        {
          "output_type": "execute_result",
          "data": {
            "text/plain": [
              "LogisticRegression(C=1.0, class_weight=None, dual=False, fit_intercept=True,\n",
              "                   intercept_scaling=1, l1_ratio=None, max_iter=100,\n",
              "                   multi_class='auto', n_jobs=None, penalty='l2',\n",
              "                   random_state=None, solver='lbfgs', tol=0.0001, verbose=0,\n",
              "                   warm_start=False)"
            ]
          },
          "metadata": {
            "tags": []
          },
          "execution_count": 162
        }
      ]
    },
    {
      "cell_type": "code",
      "metadata": {
        "id": "rnv3HLeH-5u9",
        "colab_type": "code",
        "outputId": "590f6e70-7275-4ecd-e82b-cb73e015c611",
        "colab": {
          "base_uri": "https://localhost:8080/",
          "height": 145
        }
      },
      "source": [
        "#predicting using model\n",
        "y_pred=model.predict(x_test)\n",
        "y_pred"
      ],
      "execution_count": 0,
      "outputs": [
        {
          "output_type": "execute_result",
          "data": {
            "text/plain": [
              "array([0, 0, 0, 0, 1, 0, 0, 0, 0, 1, 0, 0, 1, 0, 0, 1, 1, 0, 0, 1, 1, 1,\n",
              "       0, 0, 0, 0, 1, 0, 0, 0, 0, 0, 0, 0, 0, 1, 0, 1, 0, 0, 0, 0, 0, 0,\n",
              "       0, 0, 0, 0, 0, 0, 1, 0, 0, 1, 0, 0, 1, 0, 0, 0, 0, 1, 1, 1, 0, 0,\n",
              "       1, 0, 0, 0, 0, 0, 0, 0, 0, 1, 0, 0, 0, 0, 0, 0, 0, 0, 1, 0, 0, 0,\n",
              "       0, 1, 0, 0, 0, 0, 0, 1, 0, 1, 1, 0, 0, 1, 0, 0, 0, 0, 1, 0, 0, 0,\n",
              "       0, 0, 0, 0, 0, 1, 0, 0, 0, 0, 0, 0, 0, 0, 0, 1, 0, 0, 0, 0, 1, 0,\n",
              "       0, 0, 1, 1, 0, 0, 0, 1, 0, 1, 0, 0, 0, 0, 0, 1, 0, 0, 0, 0, 1, 0])"
            ]
          },
          "metadata": {
            "tags": []
          },
          "execution_count": 163
        }
      ]
    },
    {
      "cell_type": "code",
      "metadata": {
        "id": "a73_maW3_AS5",
        "colab_type": "code",
        "outputId": "f9c8dcec-8331-4f5f-8a48-25291f07040c",
        "colab": {
          "base_uri": "https://localhost:8080/",
          "height": 407
        }
      },
      "source": [
        "#predicted values\n",
        "sn=pd.DataFrame({'actual':y_test,'predicted':y_pred})\n",
        "sn"
      ],
      "execution_count": 0,
      "outputs": [
        {
          "output_type": "execute_result",
          "data": {
            "text/html": [
              "<div>\n",
              "<style scoped>\n",
              "    .dataframe tbody tr th:only-of-type {\n",
              "        vertical-align: middle;\n",
              "    }\n",
              "\n",
              "    .dataframe tbody tr th {\n",
              "        vertical-align: top;\n",
              "    }\n",
              "\n",
              "    .dataframe thead th {\n",
              "        text-align: right;\n",
              "    }\n",
              "</style>\n",
              "<table border=\"1\" class=\"dataframe\">\n",
              "  <thead>\n",
              "    <tr style=\"text-align: right;\">\n",
              "      <th></th>\n",
              "      <th>actual</th>\n",
              "      <th>predicted</th>\n",
              "    </tr>\n",
              "  </thead>\n",
              "  <tbody>\n",
              "    <tr>\n",
              "      <th>158</th>\n",
              "      <td>0</td>\n",
              "      <td>0</td>\n",
              "    </tr>\n",
              "    <tr>\n",
              "      <th>251</th>\n",
              "      <td>0</td>\n",
              "      <td>0</td>\n",
              "    </tr>\n",
              "    <tr>\n",
              "      <th>631</th>\n",
              "      <td>0</td>\n",
              "      <td>0</td>\n",
              "    </tr>\n",
              "    <tr>\n",
              "      <th>757</th>\n",
              "      <td>1</td>\n",
              "      <td>0</td>\n",
              "    </tr>\n",
              "    <tr>\n",
              "      <th>689</th>\n",
              "      <td>1</td>\n",
              "      <td>1</td>\n",
              "    </tr>\n",
              "    <tr>\n",
              "      <th>...</th>\n",
              "      <td>...</td>\n",
              "      <td>...</td>\n",
              "    </tr>\n",
              "    <tr>\n",
              "      <th>733</th>\n",
              "      <td>0</td>\n",
              "      <td>0</td>\n",
              "    </tr>\n",
              "    <tr>\n",
              "      <th>441</th>\n",
              "      <td>0</td>\n",
              "      <td>0</td>\n",
              "    </tr>\n",
              "    <tr>\n",
              "      <th>627</th>\n",
              "      <td>0</td>\n",
              "      <td>0</td>\n",
              "    </tr>\n",
              "    <tr>\n",
              "      <th>84</th>\n",
              "      <td>1</td>\n",
              "      <td>1</td>\n",
              "    </tr>\n",
              "    <tr>\n",
              "      <th>55</th>\n",
              "      <td>0</td>\n",
              "      <td>0</td>\n",
              "    </tr>\n",
              "  </tbody>\n",
              "</table>\n",
              "<p>154 rows × 2 columns</p>\n",
              "</div>"
            ],
            "text/plain": [
              "     actual  predicted\n",
              "158       0          0\n",
              "251       0          0\n",
              "631       0          0\n",
              "757       1          0\n",
              "689       1          1\n",
              "..      ...        ...\n",
              "733       0          0\n",
              "441       0          0\n",
              "627       0          0\n",
              "84        1          1\n",
              "55        0          0\n",
              "\n",
              "[154 rows x 2 columns]"
            ]
          },
          "metadata": {
            "tags": []
          },
          "execution_count": 164
        }
      ]
    },
    {
      "cell_type": "code",
      "metadata": {
        "id": "zX5xByzq_dHQ",
        "colab_type": "code",
        "outputId": "7a34dd90-5395-4736-e6d8-c044988232d8",
        "colab": {
          "base_uri": "https://localhost:8080/",
          "height": 35
        }
      },
      "source": [
        "#accuracy of our model\n",
        "print(accuracy_score(y_test,y_pred)*100)"
      ],
      "execution_count": 0,
      "outputs": [
        {
          "output_type": "stream",
          "text": [
            "76.62337662337663\n"
          ],
          "name": "stdout"
        }
      ]
    },
    {
      "cell_type": "code",
      "metadata": {
        "id": "haMG8YqO_s2A",
        "colab_type": "code",
        "outputId": "68347139-73aa-4be3-9a7d-affc5a0b0db9",
        "colab": {
          "base_uri": "https://localhost:8080/",
          "height": 54
        }
      },
      "source": [
        "#confusion matrix\n",
        "print(confusion_matrix(y_test,y_pred))"
      ],
      "execution_count": 0,
      "outputs": [
        {
          "output_type": "stream",
          "text": [
            "[[96 13]\n",
            " [23 22]]\n"
          ],
          "name": "stdout"
        }
      ]
    },
    {
      "cell_type": "code",
      "metadata": {
        "id": "Fa1jdFIGoj7o",
        "colab_type": "code",
        "outputId": "461a27b7-ed31-4bb2-aced-eeb5d5003be8",
        "colab": {
          "base_uri": "https://localhost:8080/",
          "height": 181
        }
      },
      "source": [
        "#classification report\n",
        "print(classification_report(y_test,y_pred))"
      ],
      "execution_count": 0,
      "outputs": [
        {
          "output_type": "stream",
          "text": [
            "              precision    recall  f1-score   support\n",
            "\n",
            "           0       0.80      0.87      0.83       109\n",
            "           1       0.60      0.47      0.52        45\n",
            "\n",
            "    accuracy                           0.75       154\n",
            "   macro avg       0.70      0.67      0.68       154\n",
            "weighted avg       0.74      0.75      0.74       154\n",
            "\n"
          ],
          "name": "stdout"
        }
      ]
    },
    {
      "cell_type": "code",
      "metadata": {
        "id": "mJP_LZw2ANon",
        "colab_type": "code",
        "outputId": "0bd0199a-f5cc-4f65-c9ef-176059c04433",
        "colab": {
          "base_uri": "https://localhost:8080/",
          "height": 35
        }
      },
      "source": [
        "# roc and auc\n",
        "print(roc_auc_score(y_test,y_pred))"
      ],
      "execution_count": 0,
      "outputs": [
        {
          "output_type": "stream",
          "text": [
            "0.6848114169215087\n"
          ],
          "name": "stdout"
        }
      ]
    },
    {
      "cell_type": "code",
      "metadata": {
        "id": "8eNP4ZpWC2bW",
        "colab_type": "code",
        "outputId": "3f9de453-1bc8-4c45-e4d8-03c5e6f101b6",
        "colab": {
          "base_uri": "https://localhost:8080/",
          "height": 35
        }
      },
      "source": [
        "# error in the prediction\n",
        "print(mean_absolute_error(y_test,y_pred))"
      ],
      "execution_count": 0,
      "outputs": [
        {
          "output_type": "stream",
          "text": [
            "0.23376623376623376\n"
          ],
          "name": "stdout"
        }
      ]
    },
    {
      "cell_type": "markdown",
      "metadata": {
        "id": "vNz939J5ECXS",
        "colab_type": "text"
      },
      "source": [
        "By keeping the random state as constant and we are changing the test size..\n",
        "\n",
        "By changing the test size we are getting different accuracyscores..\n",
        "\n",
        "And best accuracyscore is 76.5%\n",
        "\n"
      ]
    },
    {
      "cell_type": "code",
      "metadata": {
        "id": "45xvCiB8Aneo",
        "colab_type": "code",
        "outputId": "aa5171c8-5078-4af3-9997-5914639c9edf",
        "colab": {
          "base_uri": "https://localhost:8080/",
          "height": 138
        }
      },
      "source": [
        "#displaying the required values\n",
        "am=pd.DataFrame({'test_size':[0.2,0.3,0.4],'accuracy_score':[76.5,76.1,71.7],'error':[0.23,0.24,0.28]})\n",
        "am"
      ],
      "execution_count": 8,
      "outputs": [
        {
          "output_type": "execute_result",
          "data": {
            "text/html": [
              "<div>\n",
              "<style scoped>\n",
              "    .dataframe tbody tr th:only-of-type {\n",
              "        vertical-align: middle;\n",
              "    }\n",
              "\n",
              "    .dataframe tbody tr th {\n",
              "        vertical-align: top;\n",
              "    }\n",
              "\n",
              "    .dataframe thead th {\n",
              "        text-align: right;\n",
              "    }\n",
              "</style>\n",
              "<table border=\"1\" class=\"dataframe\">\n",
              "  <thead>\n",
              "    <tr style=\"text-align: right;\">\n",
              "      <th></th>\n",
              "      <th>test_size</th>\n",
              "      <th>accuracy_score</th>\n",
              "      <th>error</th>\n",
              "    </tr>\n",
              "  </thead>\n",
              "  <tbody>\n",
              "    <tr>\n",
              "      <th>0</th>\n",
              "      <td>0.2</td>\n",
              "      <td>76.5</td>\n",
              "      <td>0.23</td>\n",
              "    </tr>\n",
              "    <tr>\n",
              "      <th>1</th>\n",
              "      <td>0.3</td>\n",
              "      <td>76.1</td>\n",
              "      <td>0.24</td>\n",
              "    </tr>\n",
              "    <tr>\n",
              "      <th>2</th>\n",
              "      <td>0.4</td>\n",
              "      <td>71.7</td>\n",
              "      <td>0.28</td>\n",
              "    </tr>\n",
              "  </tbody>\n",
              "</table>\n",
              "</div>"
            ],
            "text/plain": [
              "   test_size  accuracy_score  error\n",
              "0        0.2            76.5   0.23\n",
              "1        0.3            76.1   0.24\n",
              "2        0.4            71.7   0.28"
            ]
          },
          "metadata": {
            "tags": []
          },
          "execution_count": 8
        }
      ]
    },
    {
      "cell_type": "code",
      "metadata": {
        "id": "HCUCE1c6dHQD",
        "colab_type": "code",
        "colab": {}
      },
      "source": [
        "# as per the test_size we got highest accuracy when test_size=0.2"
      ],
      "execution_count": 0,
      "outputs": []
    },
    {
      "cell_type": "markdown",
      "metadata": {
        "id": "b-d7KAACIrGH",
        "colab_type": "text"
      },
      "source": [
        "# KFold cross validation\n"
      ]
    },
    {
      "cell_type": "code",
      "metadata": {
        "id": "lzc_lDVID7wY",
        "colab_type": "code",
        "colab": {}
      },
      "source": [
        "#creating a model\n",
        "model=LogisticRegression()"
      ],
      "execution_count": 0,
      "outputs": []
    },
    {
      "cell_type": "code",
      "metadata": {
        "id": "ORQpvnVfFe50",
        "colab_type": "code",
        "colab": {}
      },
      "source": [
        "#importing packages\n",
        "from sklearn.model_selection import KFold,cross_val_score\n",
        "model=KFold(n_splits=3)"
      ],
      "execution_count": 0,
      "outputs": []
    },
    {
      "cell_type": "code",
      "metadata": {
        "id": "lXIiQn9sFt3g",
        "colab_type": "code",
        "outputId": "ec1e843e-1f67-4ca1-ebc2-20541cbe2312",
        "colab": {
          "base_uri": "https://localhost:8080/",
          "height": 763
        }
      },
      "source": [
        "cross_val_score(LogisticRegression(),x,y).mean()*100"
      ],
      "execution_count": 0,
      "outputs": [
        {
          "output_type": "stream",
          "text": [
            "/usr/local/lib/python3.6/dist-packages/sklearn/linear_model/_logistic.py:940: ConvergenceWarning: lbfgs failed to converge (status=1):\n",
            "STOP: TOTAL NO. of ITERATIONS REACHED LIMIT.\n",
            "\n",
            "Increase the number of iterations (max_iter) or scale the data as shown in:\n",
            "    https://scikit-learn.org/stable/modules/preprocessing.html\n",
            "Please also refer to the documentation for alternative solver options:\n",
            "    https://scikit-learn.org/stable/modules/linear_model.html#logistic-regression\n",
            "  extra_warning_msg=_LOGISTIC_SOLVER_CONVERGENCE_MSG)\n",
            "/usr/local/lib/python3.6/dist-packages/sklearn/linear_model/_logistic.py:940: ConvergenceWarning: lbfgs failed to converge (status=1):\n",
            "STOP: TOTAL NO. of ITERATIONS REACHED LIMIT.\n",
            "\n",
            "Increase the number of iterations (max_iter) or scale the data as shown in:\n",
            "    https://scikit-learn.org/stable/modules/preprocessing.html\n",
            "Please also refer to the documentation for alternative solver options:\n",
            "    https://scikit-learn.org/stable/modules/linear_model.html#logistic-regression\n",
            "  extra_warning_msg=_LOGISTIC_SOLVER_CONVERGENCE_MSG)\n",
            "/usr/local/lib/python3.6/dist-packages/sklearn/linear_model/_logistic.py:940: ConvergenceWarning: lbfgs failed to converge (status=1):\n",
            "STOP: TOTAL NO. of ITERATIONS REACHED LIMIT.\n",
            "\n",
            "Increase the number of iterations (max_iter) or scale the data as shown in:\n",
            "    https://scikit-learn.org/stable/modules/preprocessing.html\n",
            "Please also refer to the documentation for alternative solver options:\n",
            "    https://scikit-learn.org/stable/modules/linear_model.html#logistic-regression\n",
            "  extra_warning_msg=_LOGISTIC_SOLVER_CONVERGENCE_MSG)\n",
            "/usr/local/lib/python3.6/dist-packages/sklearn/linear_model/_logistic.py:940: ConvergenceWarning: lbfgs failed to converge (status=1):\n",
            "STOP: TOTAL NO. of ITERATIONS REACHED LIMIT.\n",
            "\n",
            "Increase the number of iterations (max_iter) or scale the data as shown in:\n",
            "    https://scikit-learn.org/stable/modules/preprocessing.html\n",
            "Please also refer to the documentation for alternative solver options:\n",
            "    https://scikit-learn.org/stable/modules/linear_model.html#logistic-regression\n",
            "  extra_warning_msg=_LOGISTIC_SOLVER_CONVERGENCE_MSG)\n",
            "/usr/local/lib/python3.6/dist-packages/sklearn/linear_model/_logistic.py:940: ConvergenceWarning: lbfgs failed to converge (status=1):\n",
            "STOP: TOTAL NO. of ITERATIONS REACHED LIMIT.\n",
            "\n",
            "Increase the number of iterations (max_iter) or scale the data as shown in:\n",
            "    https://scikit-learn.org/stable/modules/preprocessing.html\n",
            "Please also refer to the documentation for alternative solver options:\n",
            "    https://scikit-learn.org/stable/modules/linear_model.html#logistic-regression\n",
            "  extra_warning_msg=_LOGISTIC_SOLVER_CONVERGENCE_MSG)\n"
          ],
          "name": "stderr"
        },
        {
          "output_type": "execute_result",
          "data": {
            "text/plain": [
              "76.95696460402341"
            ]
          },
          "metadata": {
            "tags": []
          },
          "execution_count": 377
        }
      ]
    },
    {
      "cell_type": "markdown",
      "metadata": {
        "id": "0SnWZFNvIKgM",
        "colab_type": "text"
      },
      "source": [
        "We performed KFold Cross Validation method to measure the acuracyscore..\n",
        "\n",
        "And the final acuracy score:76.9%"
      ]
    },
    {
      "cell_type": "markdown",
      "metadata": {
        "id": "_Fx7ZYhlI3PO",
        "colab_type": "text"
      },
      "source": [
        "# KNN Algorithm"
      ]
    },
    {
      "cell_type": "code",
      "metadata": {
        "id": "NO9-ShqlInha",
        "colab_type": "code",
        "colab": {}
      },
      "source": [
        "# importing packages\n",
        "from sklearn.neighbors import KNeighborsClassifier\n",
        "from sklearn.model_selection import train_test_split\n",
        "from sklearn.metrics import accuracy_score,roc_auc_score,confusion_matrix,mean_absolute_error,r2_score,classification_report"
      ],
      "execution_count": 0,
      "outputs": []
    },
    {
      "cell_type": "code",
      "metadata": {
        "id": "q0qvI96qVuYr",
        "colab_type": "code",
        "colab": {}
      },
      "source": [
        "#spliting data\n",
        "x_train,x_test,y_train,y_test=train_test_split(x,y,test_size=0.4,random_state=2)"
      ],
      "execution_count": 0,
      "outputs": []
    },
    {
      "cell_type": "code",
      "metadata": {
        "id": "VRrzFiqVWBQ7",
        "colab_type": "code",
        "colab": {}
      },
      "source": [
        "#giving the value of k\n",
        "model=KNeighborsClassifier(n_neighbors=7)"
      ],
      "execution_count": 0,
      "outputs": []
    },
    {
      "cell_type": "code",
      "metadata": {
        "id": "Z6VSqdsDXE5Q",
        "colab_type": "code",
        "outputId": "77b4824a-a034-434c-eb42-43f32e1aa967",
        "colab": {
          "base_uri": "https://localhost:8080/",
          "height": 72
        }
      },
      "source": [
        "#fitting the model\n",
        "model.fit(x_train,y_train)"
      ],
      "execution_count": 0,
      "outputs": [
        {
          "output_type": "execute_result",
          "data": {
            "text/plain": [
              "KNeighborsClassifier(algorithm='auto', leaf_size=30, metric='minkowski',\n",
              "                     metric_params=None, n_jobs=None, n_neighbors=7, p=2,\n",
              "                     weights='uniform')"
            ]
          },
          "metadata": {
            "tags": []
          },
          "execution_count": 274
        }
      ]
    },
    {
      "cell_type": "code",
      "metadata": {
        "id": "Hb-J2BRgXVJf",
        "colab_type": "code",
        "outputId": "8c5c624c-03c8-4b82-b8f8-e21a75a4cd26",
        "colab": {
          "base_uri": "https://localhost:8080/",
          "height": 272
        }
      },
      "source": [
        "#predicting the values\n",
        "y_pred=model.predict(x_test)\n",
        "y_pred"
      ],
      "execution_count": 0,
      "outputs": [
        {
          "output_type": "execute_result",
          "data": {
            "text/plain": [
              "array([0, 0, 0, 1, 1, 0, 0, 1, 0, 1, 0, 1, 0, 0, 0, 1, 1, 0, 0, 1, 1, 1,\n",
              "       0, 0, 0, 0, 0, 0, 0, 0, 1, 0, 0, 0, 0, 1, 0, 0, 0, 0, 0, 0, 0, 0,\n",
              "       0, 0, 0, 0, 0, 0, 1, 0, 0, 0, 0, 0, 1, 0, 0, 0, 0, 1, 1, 1, 0, 0,\n",
              "       1, 0, 0, 0, 0, 0, 0, 0, 0, 0, 1, 0, 0, 0, 0, 0, 0, 0, 1, 0, 0, 0,\n",
              "       0, 0, 0, 0, 0, 0, 0, 1, 0, 1, 1, 0, 1, 1, 0, 0, 0, 0, 1, 0, 0, 0,\n",
              "       0, 0, 0, 0, 0, 1, 1, 1, 0, 0, 0, 0, 0, 0, 0, 1, 0, 1, 1, 0, 0, 0,\n",
              "       1, 0, 0, 1, 1, 0, 0, 1, 0, 0, 0, 0, 0, 0, 0, 0, 0, 0, 0, 0, 1, 0,\n",
              "       0, 0, 0, 1, 0, 1, 0, 0, 0, 0, 0, 0, 0, 1, 0, 0, 0, 1, 0, 0, 0, 0,\n",
              "       0, 0, 0, 0, 0, 0, 1, 0, 0, 0, 0, 0, 0, 1, 0, 0, 0, 1, 0, 1, 0, 0,\n",
              "       0, 0, 1, 1, 0, 0, 1, 0, 0, 0, 1, 0, 1, 0, 0, 0, 0, 0, 0, 0, 1, 1,\n",
              "       1, 0, 0, 0, 0, 1, 0, 0, 1, 0, 0, 0, 0, 0, 1, 1, 0, 0, 0, 1, 0, 0,\n",
              "       1, 0, 0, 0, 0, 0, 0, 1, 0, 0, 1, 0, 1, 0, 0, 0, 0, 0, 0, 0, 1, 0,\n",
              "       0, 0, 0, 0, 0, 0, 1, 0, 0, 0, 0, 0, 1, 0, 0, 1, 0, 1, 1, 0, 0, 0,\n",
              "       0, 1, 0, 1, 1, 0, 1, 1, 1, 0, 1, 0, 0, 1, 1, 1, 1, 0, 0, 0, 0, 1])"
            ]
          },
          "metadata": {
            "tags": []
          },
          "execution_count": 275
        }
      ]
    },
    {
      "cell_type": "code",
      "metadata": {
        "id": "rhXxQdTVXZzS",
        "colab_type": "code",
        "outputId": "1a543b89-889e-464e-83cf-e63d24999cea",
        "colab": {
          "base_uri": "https://localhost:8080/",
          "height": 272
        }
      },
      "source": [
        "#data frame of predicted and actual values\n",
        "sn=pd.DataFrame({'actual':y_test,'predicted':y_pred})\n",
        "print(sn)"
      ],
      "execution_count": 0,
      "outputs": [
        {
          "output_type": "stream",
          "text": [
            "     actual  predicted\n",
            "158       0          0\n",
            "251       0          0\n",
            "631       0          0\n",
            "757       1          1\n",
            "689       1          1\n",
            "..      ...        ...\n",
            "328       1          0\n",
            "112       0          0\n",
            "618       1          0\n",
            "665       0          0\n",
            "642       1          1\n",
            "\n",
            "[308 rows x 2 columns]\n"
          ],
          "name": "stdout"
        }
      ]
    },
    {
      "cell_type": "code",
      "metadata": {
        "id": "G1-l1sSn56hj",
        "colab_type": "code",
        "colab": {}
      },
      "source": [
        "plt.bar(y_test,y_pred)"
      ],
      "execution_count": 0,
      "outputs": []
    },
    {
      "cell_type": "code",
      "metadata": {
        "id": "GXzTFnjsX9iP",
        "colab_type": "code",
        "outputId": "3cc60c69-e8eb-414b-89ea-962ef49af429",
        "colab": {
          "base_uri": "https://localhost:8080/",
          "height": 35
        }
      },
      "source": [
        "#accuracy of our model\n",
        "print(accuracy_score(y_test,y_pred)*100)"
      ],
      "execution_count": 0,
      "outputs": [
        {
          "output_type": "stream",
          "text": [
            "76.2987012987013\n"
          ],
          "name": "stdout"
        }
      ]
    },
    {
      "cell_type": "code",
      "metadata": {
        "id": "8_YbuArhY_-9",
        "colab_type": "code",
        "outputId": "f9798ce7-475e-45c9-d2d2-b7121c1392f7",
        "colab": {
          "base_uri": "https://localhost:8080/",
          "height": 54
        }
      },
      "source": [
        "#confusion matrix\n",
        "print(confusion_matrix(y_test,y_pred))"
      ],
      "execution_count": 0,
      "outputs": [
        {
          "output_type": "stream",
          "text": [
            "[[180  25]\n",
            " [ 48  55]]\n"
          ],
          "name": "stdout"
        }
      ]
    },
    {
      "cell_type": "code",
      "metadata": {
        "id": "dRUFqQwbnyEA",
        "colab_type": "code",
        "outputId": "3d5298cb-40e5-4911-f4ad-97443a430750",
        "colab": {
          "base_uri": "https://localhost:8080/",
          "height": 181
        }
      },
      "source": [
        "#classification report\n",
        "print(classification_report(y_test,y_pred))"
      ],
      "execution_count": 0,
      "outputs": [
        {
          "output_type": "stream",
          "text": [
            "              precision    recall  f1-score   support\n",
            "\n",
            "           0       0.80      0.87      0.83       109\n",
            "           1       0.60      0.47      0.52        45\n",
            "\n",
            "    accuracy                           0.75       154\n",
            "   macro avg       0.70      0.67      0.68       154\n",
            "weighted avg       0.74      0.75      0.74       154\n",
            "\n"
          ],
          "name": "stdout"
        }
      ]
    },
    {
      "cell_type": "code",
      "metadata": {
        "id": "s8ep0LQyZLRy",
        "colab_type": "code",
        "outputId": "9eaebf0d-5aea-4299-fbf3-0fb6cada385f",
        "colab": {
          "base_uri": "https://localhost:8080/",
          "height": 35
        }
      },
      "source": [
        "#roc and auc \n",
        "print(roc_auc_score(y_test,y_pred))"
      ],
      "execution_count": 0,
      "outputs": [
        {
          "output_type": "stream",
          "text": [
            "0.7060146815060384\n"
          ],
          "name": "stdout"
        }
      ]
    },
    {
      "cell_type": "code",
      "metadata": {
        "id": "8SRt3IUpZPql",
        "colab_type": "code",
        "outputId": "d1c6bb9a-35b7-429b-fb07-2bace72a723c",
        "colab": {
          "base_uri": "https://localhost:8080/",
          "height": 35
        }
      },
      "source": [
        "#error in the predicted values\n",
        "print(mean_absolute_error(y_test,y_pred))"
      ],
      "execution_count": 0,
      "outputs": [
        {
          "output_type": "stream",
          "text": [
            "0.237012987012987\n"
          ],
          "name": "stdout"
        }
      ]
    },
    {
      "cell_type": "code",
      "metadata": {
        "id": "39oOMYcSZVY3",
        "colab_type": "code",
        "outputId": "fc95b796-69ae-408a-80f4-7f347e95f306",
        "colab": {
          "base_uri": "https://localhost:8080/",
          "height": 138
        }
      },
      "source": [
        "#dataset of accurcy and error\n",
        "am=pd.DataFrame({'n_neighbors':[3,5,7],'accuracy_score':[72.07,73.05,76.29],'error':[0.27,0.26,0.23]})\n",
        "am"
      ],
      "execution_count": 0,
      "outputs": [
        {
          "output_type": "execute_result",
          "data": {
            "text/html": [
              "<div>\n",
              "<style scoped>\n",
              "    .dataframe tbody tr th:only-of-type {\n",
              "        vertical-align: middle;\n",
              "    }\n",
              "\n",
              "    .dataframe tbody tr th {\n",
              "        vertical-align: top;\n",
              "    }\n",
              "\n",
              "    .dataframe thead th {\n",
              "        text-align: right;\n",
              "    }\n",
              "</style>\n",
              "<table border=\"1\" class=\"dataframe\">\n",
              "  <thead>\n",
              "    <tr style=\"text-align: right;\">\n",
              "      <th></th>\n",
              "      <th>n_neighbors</th>\n",
              "      <th>accuracy_score</th>\n",
              "      <th>error</th>\n",
              "    </tr>\n",
              "  </thead>\n",
              "  <tbody>\n",
              "    <tr>\n",
              "      <th>0</th>\n",
              "      <td>3</td>\n",
              "      <td>72.07</td>\n",
              "      <td>0.27</td>\n",
              "    </tr>\n",
              "    <tr>\n",
              "      <th>1</th>\n",
              "      <td>5</td>\n",
              "      <td>73.05</td>\n",
              "      <td>0.26</td>\n",
              "    </tr>\n",
              "    <tr>\n",
              "      <th>2</th>\n",
              "      <td>7</td>\n",
              "      <td>76.29</td>\n",
              "      <td>0.23</td>\n",
              "    </tr>\n",
              "  </tbody>\n",
              "</table>\n",
              "</div>"
            ],
            "text/plain": [
              "   n_neighbors  accuracy_score  error\n",
              "0            3           72.07   0.27\n",
              "1            5           73.05   0.26\n",
              "2            7           76.29   0.23"
            ]
          },
          "metadata": {
            "tags": []
          },
          "execution_count": 283
        }
      ]
    },
    {
      "cell_type": "code",
      "metadata": {
        "id": "72FaG8kseefu",
        "colab_type": "code",
        "colab": {}
      },
      "source": [
        "# we got highest accuracy when n_neighbors=7"
      ],
      "execution_count": 0,
      "outputs": []
    },
    {
      "cell_type": "markdown",
      "metadata": {
        "id": "sQAdXF4He5CK",
        "colab_type": "text"
      },
      "source": [
        "# SVM Algorithm"
      ]
    },
    {
      "cell_type": "code",
      "metadata": {
        "id": "59E0XWQ5eqyB",
        "colab_type": "code",
        "colab": {}
      },
      "source": [
        "#import packages\n",
        "from sklearn.model_selection import train_test_split\n",
        "from sklearn import svm\n",
        "from sklearn.svm import SVC"
      ],
      "execution_count": 0,
      "outputs": []
    },
    {
      "cell_type": "code",
      "metadata": {
        "id": "PgPp1iFzgo7r",
        "colab_type": "code",
        "colab": {}
      },
      "source": [
        "#spliting the data\n",
        "x_train,x_test,y_train,y_test=train_test_split(x,y,test_size=0.2,random_state=2)"
      ],
      "execution_count": 0,
      "outputs": []
    },
    {
      "cell_type": "code",
      "metadata": {
        "id": "dJYHbKftifzw",
        "colab_type": "code",
        "outputId": "82186048-b4a7-4229-a987-6f739e62278d",
        "colab": {
          "base_uri": "https://localhost:8080/",
          "height": 90
        }
      },
      "source": [
        "#fitting the model\n",
        "model=SVC(kernel='rbf')\n",
        "model.fit(x_train,y_train)"
      ],
      "execution_count": 0,
      "outputs": [
        {
          "output_type": "execute_result",
          "data": {
            "text/plain": [
              "SVC(C=1.0, break_ties=False, cache_size=200, class_weight=None, coef0=0.0,\n",
              "    decision_function_shape='ovr', degree=3, gamma='scale', kernel='poly',\n",
              "    max_iter=-1, probability=False, random_state=None, shrinking=True,\n",
              "    tol=0.001, verbose=False)"
            ]
          },
          "metadata": {
            "tags": []
          },
          "execution_count": 379
        }
      ]
    },
    {
      "cell_type": "code",
      "metadata": {
        "id": "6TphIz5Mi6Ss",
        "colab_type": "code",
        "outputId": "e7621c0d-2252-43a4-e930-5773914c8538",
        "colab": {
          "base_uri": "https://localhost:8080/",
          "height": 145
        }
      },
      "source": [
        "#predicting the values\n",
        "y_pred=model.predict(x_test)\n",
        "y_pred"
      ],
      "execution_count": 0,
      "outputs": [
        {
          "output_type": "execute_result",
          "data": {
            "text/plain": [
              "array([0, 0, 0, 0, 1, 0, 0, 1, 0, 1, 0, 0, 1, 0, 0, 1, 1, 0, 0, 1, 1, 1,\n",
              "       0, 0, 0, 0, 1, 0, 0, 0, 0, 0, 0, 0, 0, 1, 0, 1, 0, 0, 0, 0, 0, 0,\n",
              "       0, 0, 0, 0, 0, 0, 1, 0, 0, 1, 0, 0, 1, 0, 0, 0, 0, 1, 1, 1, 0, 0,\n",
              "       1, 0, 0, 0, 0, 0, 1, 0, 0, 0, 0, 0, 0, 0, 0, 0, 0, 0, 1, 0, 0, 0,\n",
              "       0, 0, 0, 0, 0, 0, 0, 1, 0, 0, 1, 0, 1, 1, 0, 0, 0, 0, 1, 0, 0, 0,\n",
              "       0, 0, 0, 0, 0, 1, 0, 0, 0, 0, 0, 0, 0, 0, 0, 1, 0, 1, 1, 0, 0, 0,\n",
              "       0, 0, 0, 1, 0, 0, 0, 0, 0, 0, 0, 0, 0, 0, 0, 1, 0, 0, 0, 0, 1, 0])"
            ]
          },
          "metadata": {
            "tags": []
          },
          "execution_count": 380
        }
      ]
    },
    {
      "cell_type": "code",
      "metadata": {
        "id": "9sskkH80jI1M",
        "colab_type": "code",
        "colab": {}
      },
      "source": [
        "#predicted values\n",
        "sn=pd.DataFrame({'actual':y_test,'predicted':y_pred})\n",
        "sn"
      ],
      "execution_count": 0,
      "outputs": []
    },
    {
      "cell_type": "code",
      "metadata": {
        "id": "qGJ4Y0JEkJGh",
        "colab_type": "code",
        "outputId": "196b8958-fb21-4723-ed07-8e01f4fb3e63",
        "colab": {
          "base_uri": "https://localhost:8080/",
          "height": 35
        }
      },
      "source": [
        "#accuracy of model\n",
        "print(accuracy_score(y_test,y_pred)*100)"
      ],
      "execution_count": 0,
      "outputs": [
        {
          "output_type": "stream",
          "text": [
            "76.62337662337663\n"
          ],
          "name": "stdout"
        }
      ]
    },
    {
      "cell_type": "code",
      "metadata": {
        "id": "R5Q6npxCkQSe",
        "colab_type": "code",
        "outputId": "8b082e97-31bc-445b-84a9-7d33655910df",
        "colab": {
          "base_uri": "https://localhost:8080/",
          "height": 54
        }
      },
      "source": [
        "#confusion matrix of model\n",
        "print(confusion_matrix(y_test,y_pred))"
      ],
      "execution_count": 0,
      "outputs": [
        {
          "output_type": "stream",
          "text": [
            "[[95 14]\n",
            " [24 21]]\n"
          ],
          "name": "stdout"
        }
      ]
    },
    {
      "cell_type": "code",
      "metadata": {
        "id": "vLoz9c9mn_EK",
        "colab_type": "code",
        "outputId": "b216c336-00f3-41b6-e3a3-f4ef1855dcfe",
        "colab": {
          "base_uri": "https://localhost:8080/",
          "height": 181
        }
      },
      "source": [
        "#classification report\n",
        "print(classification_report(y_test,y_pred))"
      ],
      "execution_count": 0,
      "outputs": [
        {
          "output_type": "stream",
          "text": [
            "              precision    recall  f1-score   support\n",
            "\n",
            "           0       0.80      0.87      0.83       109\n",
            "           1       0.60      0.47      0.52        45\n",
            "\n",
            "    accuracy                           0.75       154\n",
            "   macro avg       0.70      0.67      0.68       154\n",
            "weighted avg       0.74      0.75      0.74       154\n",
            "\n"
          ],
          "name": "stdout"
        }
      ]
    },
    {
      "cell_type": "code",
      "metadata": {
        "id": "7tonoqHako6P",
        "colab_type": "code",
        "outputId": "b00dc313-4080-40d9-92b0-5e2a601f9c3c",
        "colab": {
          "base_uri": "https://localhost:8080/",
          "height": 35
        }
      },
      "source": [
        "#roc and auc score\n",
        "print(roc_auc_score(y_test,y_pred))"
      ],
      "execution_count": 0,
      "outputs": [
        {
          "output_type": "stream",
          "text": [
            "0.6691131498470948\n"
          ],
          "name": "stdout"
        }
      ]
    },
    {
      "cell_type": "code",
      "metadata": {
        "id": "OTWeyngBk4To",
        "colab_type": "code",
        "outputId": "dcf668b8-8071-4f76-d278-3bb7d6e3f6bc",
        "colab": {
          "base_uri": "https://localhost:8080/",
          "height": 35
        }
      },
      "source": [
        "#error in the given model\n",
        "print(mean_absolute_error(y_test,y_pred))"
      ],
      "execution_count": 0,
      "outputs": [
        {
          "output_type": "stream",
          "text": [
            "0.23376623376623376\n"
          ],
          "name": "stdout"
        }
      ]
    },
    {
      "cell_type": "code",
      "metadata": {
        "id": "u18a_mkiwj-G",
        "colab_type": "code",
        "outputId": "5e0b49ec-114e-4703-e0d4-30e974c4ef67",
        "colab": {
          "base_uri": "https://localhost:8080/",
          "height": 108
        }
      },
      "source": [
        "#data set of accuracy and error\n",
        "dat=pd.DataFrame({'kernel':['linear','rbf'],'accuracy':[75.32,76.62],'error':[0.24,0.23]})\n",
        "dat"
      ],
      "execution_count": 0,
      "outputs": [
        {
          "output_type": "execute_result",
          "data": {
            "text/html": [
              "<div>\n",
              "<style scoped>\n",
              "    .dataframe tbody tr th:only-of-type {\n",
              "        vertical-align: middle;\n",
              "    }\n",
              "\n",
              "    .dataframe tbody tr th {\n",
              "        vertical-align: top;\n",
              "    }\n",
              "\n",
              "    .dataframe thead th {\n",
              "        text-align: right;\n",
              "    }\n",
              "</style>\n",
              "<table border=\"1\" class=\"dataframe\">\n",
              "  <thead>\n",
              "    <tr style=\"text-align: right;\">\n",
              "      <th></th>\n",
              "      <th>kernel</th>\n",
              "      <th>accuracy</th>\n",
              "      <th>error</th>\n",
              "    </tr>\n",
              "  </thead>\n",
              "  <tbody>\n",
              "    <tr>\n",
              "      <th>0</th>\n",
              "      <td>linear</td>\n",
              "      <td>75.32</td>\n",
              "      <td>0.24</td>\n",
              "    </tr>\n",
              "    <tr>\n",
              "      <th>1</th>\n",
              "      <td>rbf</td>\n",
              "      <td>76.62</td>\n",
              "      <td>0.23</td>\n",
              "    </tr>\n",
              "  </tbody>\n",
              "</table>\n",
              "</div>"
            ],
            "text/plain": [
              "   kernel  accuracy  error\n",
              "0  linear     75.32   0.24\n",
              "1     rbf     76.62   0.23"
            ]
          },
          "metadata": {
            "tags": []
          },
          "execution_count": 360
        }
      ]
    },
    {
      "cell_type": "code",
      "metadata": {
        "id": "rqdGeNG-ZzMD",
        "colab_type": "code",
        "colab": {}
      },
      "source": [
        "#we have amximum accuracy when kernel=rbf.."
      ],
      "execution_count": 0,
      "outputs": []
    },
    {
      "cell_type": "code",
      "metadata": {
        "id": "FckrN2y_7sGC",
        "colab_type": "code",
        "colab": {}
      },
      "source": [
        "plt.bar(y_test,y_pred)"
      ],
      "execution_count": 0,
      "outputs": []
    },
    {
      "cell_type": "markdown",
      "metadata": {
        "id": "6uOr6ABVmz4G",
        "colab_type": "text"
      },
      "source": [
        "# Decision Tree Algorithm"
      ]
    },
    {
      "cell_type": "code",
      "metadata": {
        "id": "Gih6o99dlT4f",
        "colab_type": "code",
        "colab": {}
      },
      "source": [
        "#importing packages\n",
        "from sklearn.tree import DecisionTreeClassifier\n",
        "from sklearn.model_selection import train_test_split\n",
        "from sklearn import tree"
      ],
      "execution_count": 0,
      "outputs": []
    },
    {
      "cell_type": "code",
      "metadata": {
        "id": "7lISQZspniSj",
        "colab_type": "code",
        "colab": {}
      },
      "source": [
        "#splitting the data\n",
        "x_train,x_test,y_train,y_test=train_test_split(x,y,test_size=0.2,random_state=2)"
      ],
      "execution_count": 0,
      "outputs": []
    },
    {
      "cell_type": "code",
      "metadata": {
        "id": "b8ypnxoYo4ZB",
        "colab_type": "code",
        "colab": {}
      },
      "source": [
        "#creating the model\n",
        "model=tree.DecisionTreeClassifier(max_depth=4)\n",
        "b=model.fit(x_train,y_train)"
      ],
      "execution_count": 0,
      "outputs": []
    },
    {
      "cell_type": "code",
      "metadata": {
        "id": "90ZdTLlFpSOD",
        "colab_type": "code",
        "outputId": "5c16d7e2-9d60-4513-e4fa-b8597ae463ac",
        "colab": {
          "base_uri": "https://localhost:8080/",
          "height": 145
        }
      },
      "source": [
        "#predicting the values\n",
        "y_pred=model.predict(x_test)\n",
        "y_pred"
      ],
      "execution_count": 0,
      "outputs": [
        {
          "output_type": "execute_result",
          "data": {
            "text/plain": [
              "array([0, 1, 0, 0, 1, 0, 0, 1, 0, 1, 0, 0, 1, 0, 0, 1, 1, 0, 0, 1, 1, 1,\n",
              "       0, 0, 0, 0, 1, 0, 0, 0, 0, 0, 0, 0, 0, 1, 0, 1, 1, 0, 0, 0, 0, 0,\n",
              "       0, 0, 0, 0, 0, 1, 1, 0, 0, 1, 0, 0, 1, 1, 0, 0, 0, 1, 1, 1, 0, 1,\n",
              "       1, 0, 0, 0, 0, 0, 1, 0, 0, 1, 1, 0, 0, 0, 0, 0, 0, 0, 1, 0, 0, 0,\n",
              "       0, 1, 0, 0, 0, 0, 0, 1, 1, 0, 1, 0, 1, 1, 1, 0, 0, 0, 1, 0, 0, 0,\n",
              "       0, 0, 1, 0, 0, 1, 0, 0, 0, 0, 0, 0, 0, 0, 1, 1, 0, 1, 1, 0, 1, 0,\n",
              "       1, 0, 0, 1, 0, 1, 1, 0, 0, 0, 0, 0, 0, 0, 0, 1, 0, 0, 0, 1, 1, 0])"
            ]
          },
          "metadata": {
            "tags": []
          },
          "execution_count": 330
        }
      ]
    },
    {
      "cell_type": "code",
      "metadata": {
        "id": "38aYB_1Xpa94",
        "colab_type": "code",
        "outputId": "896c1456-4a8b-4667-8abf-fa3aa81fad56",
        "colab": {
          "base_uri": "https://localhost:8080/",
          "height": 1000
        }
      },
      "source": [
        "tree.plot_tree(b.fit(x,y))"
      ],
      "execution_count": 0,
      "outputs": [
        {
          "output_type": "execute_result",
          "data": {
            "text/plain": [
              "[Text(164.65359375, 209.6742857142857, 'X[1] <= 127.5\\ngini = 0.454\\nsamples = 768\\nvalue = [500, 268]'),\n",
              " Text(71.1763875, 194.14285714285714, 'X[7] <= 28.5\\ngini = 0.313\\nsamples = 485\\nvalue = [391, 94]'),\n",
              " Text(36.660599999999995, 178.61142857142858, 'X[5] <= 45.4\\ngini = 0.155\\nsamples = 271\\nvalue = [248, 23]'),\n",
              " Text(24.4404, 163.07999999999998, 'X[5] <= 30.95\\ngini = 0.139\\nsamples = 267\\nvalue = [247, 20]'),\n",
              " Text(8.0352, 147.54857142857142, 'X[0] <= 7.5\\ngini = 0.026\\nsamples = 151\\nvalue = [149, 2]'),\n",
              " Text(5.3568, 132.01714285714286, 'X[6] <= 0.672\\ngini = 0.013\\nsamples = 150\\nvalue = [149, 1]'),\n",
              " Text(2.6784, 116.48571428571428, 'gini = 0.0\\nsamples = 131\\nvalue = [131, 0]'),\n",
              " Text(8.0352, 116.48571428571428, 'X[6] <= 0.686\\ngini = 0.1\\nsamples = 19\\nvalue = [18, 1]'),\n",
              " Text(5.3568, 100.9542857142857, 'gini = 0.0\\nsamples = 1\\nvalue = [0, 1]'),\n",
              " Text(10.7136, 100.9542857142857, 'gini = 0.0\\nsamples = 18\\nvalue = [18, 0]'),\n",
              " Text(10.7136, 132.01714285714286, 'gini = 0.0\\nsamples = 1\\nvalue = [0, 1]'),\n",
              " Text(40.8456, 147.54857142857142, 'X[6] <= 0.501\\ngini = 0.262\\nsamples = 116\\nvalue = [98, 18]'),\n",
              " Text(26.784, 132.01714285714286, 'X[2] <= 53.0\\ngini = 0.153\\nsamples = 72\\nvalue = [66, 6]'),\n",
              " Text(18.7488, 116.48571428571428, 'X[5] <= 32.45\\ngini = 0.5\\nsamples = 6\\nvalue = [3, 3]'),\n",
              " Text(16.0704, 100.9542857142857, 'gini = 0.0\\nsamples = 2\\nvalue = [0, 2]'),\n",
              " Text(21.4272, 100.9542857142857, 'X[3] <= 10.5\\ngini = 0.375\\nsamples = 4\\nvalue = [3, 1]'),\n",
              " Text(18.7488, 85.42285714285714, 'gini = 0.0\\nsamples = 1\\nvalue = [0, 1]'),\n",
              " Text(24.1056, 85.42285714285714, 'gini = 0.0\\nsamples = 3\\nvalue = [3, 0]'),\n",
              " Text(34.819199999999995, 116.48571428571428, 'X[4] <= 36.5\\ngini = 0.087\\nsamples = 66\\nvalue = [63, 3]'),\n",
              " Text(32.1408, 100.9542857142857, 'X[4] <= 34.0\\ngini = 0.227\\nsamples = 23\\nvalue = [20, 3]'),\n",
              " Text(29.4624, 85.42285714285714, 'X[5] <= 33.65\\ngini = 0.165\\nsamples = 22\\nvalue = [20, 2]'),\n",
              " Text(26.784, 69.89142857142858, 'X[1] <= 102.0\\ngini = 0.444\\nsamples = 6\\nvalue = [4, 2]'),\n",
              " Text(24.1056, 54.359999999999985, 'gini = 0.0\\nsamples = 3\\nvalue = [3, 0]'),\n",
              " Text(29.4624, 54.359999999999985, 'X[2] <= 66.0\\ngini = 0.444\\nsamples = 3\\nvalue = [1, 2]'),\n",
              " Text(26.784, 38.82857142857142, 'gini = 0.0\\nsamples = 1\\nvalue = [1, 0]'),\n",
              " Text(32.1408, 38.82857142857142, 'gini = 0.0\\nsamples = 2\\nvalue = [0, 2]'),\n",
              " Text(32.1408, 69.89142857142858, 'gini = 0.0\\nsamples = 16\\nvalue = [16, 0]'),\n",
              " Text(34.819199999999995, 85.42285714285714, 'gini = 0.0\\nsamples = 1\\nvalue = [0, 1]'),\n",
              " Text(37.4976, 100.9542857142857, 'gini = 0.0\\nsamples = 43\\nvalue = [43, 0]'),\n",
              " Text(54.907199999999996, 132.01714285714286, 'X[2] <= 69.0\\ngini = 0.397\\nsamples = 44\\nvalue = [32, 12]'),\n",
              " Text(45.532799999999995, 116.48571428571428, 'X[1] <= 88.5\\ngini = 0.476\\nsamples = 23\\nvalue = [14, 9]'),\n",
              " Text(42.8544, 100.9542857142857, 'gini = 0.0\\nsamples = 8\\nvalue = [8, 0]'),\n",
              " Text(48.2112, 100.9542857142857, 'X[1] <= 116.0\\ngini = 0.48\\nsamples = 15\\nvalue = [6, 9]'),\n",
              " Text(42.8544, 85.42285714285714, 'X[6] <= 0.927\\ngini = 0.32\\nsamples = 10\\nvalue = [2, 8]'),\n",
              " Text(40.176, 69.89142857142858, 'X[5] <= 36.7\\ngini = 0.198\\nsamples = 9\\nvalue = [1, 8]'),\n",
              " Text(37.4976, 54.359999999999985, 'gini = 0.0\\nsamples = 6\\nvalue = [0, 6]'),\n",
              " Text(42.8544, 54.359999999999985, 'X[1] <= 95.0\\ngini = 0.444\\nsamples = 3\\nvalue = [1, 2]'),\n",
              " Text(40.176, 38.82857142857142, 'gini = 0.0\\nsamples = 2\\nvalue = [0, 2]'),\n",
              " Text(45.532799999999995, 38.82857142857142, 'gini = 0.0\\nsamples = 1\\nvalue = [1, 0]'),\n",
              " Text(45.532799999999995, 69.89142857142858, 'gini = 0.0\\nsamples = 1\\nvalue = [1, 0]'),\n",
              " Text(53.568, 85.42285714285714, 'X[6] <= 0.889\\ngini = 0.32\\nsamples = 5\\nvalue = [4, 1]'),\n",
              " Text(50.8896, 69.89142857142858, 'gini = 0.0\\nsamples = 4\\nvalue = [4, 0]'),\n",
              " Text(56.246399999999994, 69.89142857142858, 'gini = 0.0\\nsamples = 1\\nvalue = [0, 1]'),\n",
              " Text(64.2816, 116.48571428571428, 'X[1] <= 85.0\\ngini = 0.245\\nsamples = 21\\nvalue = [18, 3]'),\n",
              " Text(61.6032, 100.9542857142857, 'gini = 0.0\\nsamples = 1\\nvalue = [0, 1]'),\n",
              " Text(66.96, 100.9542857142857, 'X[3] <= 5.5\\ngini = 0.18\\nsamples = 20\\nvalue = [18, 2]'),\n",
              " Text(64.2816, 85.42285714285714, 'X[2] <= 79.0\\ngini = 0.444\\nsamples = 6\\nvalue = [4, 2]'),\n",
              " Text(61.6032, 69.89142857142858, 'gini = 0.0\\nsamples = 3\\nvalue = [3, 0]'),\n",
              " Text(66.96, 69.89142857142858, 'X[1] <= 104.5\\ngini = 0.444\\nsamples = 3\\nvalue = [1, 2]'),\n",
              " Text(64.2816, 54.359999999999985, 'gini = 0.0\\nsamples = 1\\nvalue = [1, 0]'),\n",
              " Text(69.63839999999999, 54.359999999999985, 'gini = 0.0\\nsamples = 2\\nvalue = [0, 2]'),\n",
              " Text(69.63839999999999, 85.42285714285714, 'gini = 0.0\\nsamples = 14\\nvalue = [14, 0]'),\n",
              " Text(48.8808, 163.07999999999998, 'X[4] <= 180.0\\ngini = 0.375\\nsamples = 4\\nvalue = [1, 3]'),\n",
              " Text(46.2024, 147.54857142857142, 'gini = 0.0\\nsamples = 3\\nvalue = [0, 3]'),\n",
              " Text(51.5592, 147.54857142857142, 'gini = 0.0\\nsamples = 1\\nvalue = [1, 0]'),\n",
              " Text(105.69217499999999, 178.61142857142858, 'X[5] <= 26.35\\ngini = 0.443\\nsamples = 214\\nvalue = [143, 71]'),\n",
              " Text(85.7088, 163.07999999999998, 'X[5] <= 9.65\\ngini = 0.093\\nsamples = 41\\nvalue = [39, 2]'),\n",
              " Text(83.0304, 147.54857142857142, 'gini = 0.0\\nsamples = 2\\nvalue = [0, 2]'),\n",
              " Text(88.38719999999999, 147.54857142857142, 'gini = 0.0\\nsamples = 39\\nvalue = [39, 0]'),\n",
              " Text(125.67555, 163.07999999999998, 'X[1] <= 99.5\\ngini = 0.48\\nsamples = 173\\nvalue = [104, 69]'),\n",
              " Text(93.744, 147.54857142857142, 'X[1] <= 28.5\\ngini = 0.298\\nsamples = 55\\nvalue = [45, 10]'),\n",
              " Text(91.06559999999999, 132.01714285714286, 'gini = 0.0\\nsamples = 2\\nvalue = [0, 2]'),\n",
              " Text(96.4224, 132.01714285714286, 'X[6] <= 0.796\\ngini = 0.256\\nsamples = 53\\nvalue = [45, 8]'),\n",
              " Text(85.7088, 116.48571428571428, 'X[1] <= 94.5\\ngini = 0.162\\nsamples = 45\\nvalue = [41, 4]'),\n",
              " Text(77.6736, 100.9542857142857, 'X[0] <= 11.5\\ngini = 0.059\\nsamples = 33\\nvalue = [32, 1]'),\n",
              " Text(74.9952, 85.42285714285714, 'gini = 0.0\\nsamples = 30\\nvalue = [30, 0]'),\n",
              " Text(80.352, 85.42285714285714, 'X[5] <= 31.25\\ngini = 0.444\\nsamples = 3\\nvalue = [2, 1]'),\n",
              " Text(77.6736, 69.89142857142858, 'gini = 0.0\\nsamples = 1\\nvalue = [0, 1]'),\n",
              " Text(83.0304, 69.89142857142858, 'gini = 0.0\\nsamples = 2\\nvalue = [2, 0]'),\n",
              " Text(93.744, 100.9542857142857, 'X[1] <= 97.5\\ngini = 0.375\\nsamples = 12\\nvalue = [9, 3]'),\n",
              " Text(91.06559999999999, 85.42285714285714, 'X[5] <= 36.2\\ngini = 0.5\\nsamples = 6\\nvalue = [3, 3]'),\n",
              " Text(88.38719999999999, 69.89142857142858, 'gini = 0.0\\nsamples = 3\\nvalue = [0, 3]'),\n",
              " Text(93.744, 69.89142857142858, 'gini = 0.0\\nsamples = 3\\nvalue = [3, 0]'),\n",
              " Text(96.4224, 85.42285714285714, 'gini = 0.0\\nsamples = 6\\nvalue = [6, 0]'),\n",
              " Text(107.136, 116.48571428571428, 'X[5] <= 41.1\\ngini = 0.5\\nsamples = 8\\nvalue = [4, 4]'),\n",
              " Text(104.4576, 100.9542857142857, 'X[3] <= 20.0\\ngini = 0.32\\nsamples = 5\\nvalue = [1, 4]'),\n",
              " Text(101.7792, 85.42285714285714, 'X[1] <= 94.0\\ngini = 0.5\\nsamples = 2\\nvalue = [1, 1]'),\n",
              " Text(99.10079999999999, 69.89142857142858, 'gini = 0.0\\nsamples = 1\\nvalue = [0, 1]'),\n",
              " Text(104.4576, 69.89142857142858, 'gini = 0.0\\nsamples = 1\\nvalue = [1, 0]'),\n",
              " Text(107.136, 85.42285714285714, 'gini = 0.0\\nsamples = 3\\nvalue = [0, 3]'),\n",
              " Text(109.81439999999999, 100.9542857142857, 'gini = 0.0\\nsamples = 3\\nvalue = [3, 0]'),\n",
              " Text(157.6071, 147.54857142857142, 'X[6] <= 0.561\\ngini = 0.5\\nsamples = 118\\nvalue = [59, 59]'),\n",
              " Text(130.4046, 132.01714285714286, 'X[6] <= 0.2\\ngini = 0.482\\nsamples = 84\\nvalue = [50, 34]'),\n",
              " Text(117.8496, 116.48571428571428, 'X[5] <= 27.65\\ngini = 0.308\\nsamples = 21\\nvalue = [17, 4]'),\n",
              " Text(115.1712, 100.9542857142857, 'gini = 0.0\\nsamples = 1\\nvalue = [0, 1]'),\n",
              " Text(120.52799999999999, 100.9542857142857, 'X[3] <= 9.5\\ngini = 0.255\\nsamples = 20\\nvalue = [17, 3]'),\n",
              " Text(117.8496, 85.42285714285714, 'X[1] <= 118.5\\ngini = 0.397\\nsamples = 11\\nvalue = [8, 3]'),\n",
              " Text(112.49279999999999, 69.89142857142858, 'X[1] <= 103.0\\ngini = 0.219\\nsamples = 8\\nvalue = [7, 1]'),\n",
              " Text(109.81439999999999, 54.359999999999985, 'X[2] <= 79.0\\ngini = 0.444\\nsamples = 3\\nvalue = [2, 1]'),\n",
              " Text(107.136, 38.82857142857142, 'gini = 0.0\\nsamples = 2\\nvalue = [2, 0]'),\n",
              " Text(112.49279999999999, 38.82857142857142, 'gini = 0.0\\nsamples = 1\\nvalue = [0, 1]'),\n",
              " Text(115.1712, 54.359999999999985, 'gini = 0.0\\nsamples = 5\\nvalue = [5, 0]'),\n",
              " Text(123.2064, 69.89142857142858, 'X[2] <= 91.0\\ngini = 0.444\\nsamples = 3\\nvalue = [1, 2]'),\n",
              " Text(120.52799999999999, 54.359999999999985, 'gini = 0.0\\nsamples = 2\\nvalue = [0, 2]'),\n",
              " Text(125.8848, 54.359999999999985, 'gini = 0.0\\nsamples = 1\\nvalue = [1, 0]'),\n",
              " Text(123.2064, 85.42285714285714, 'gini = 0.0\\nsamples = 9\\nvalue = [9, 0]'),\n",
              " Text(142.9596, 116.48571428571428, 'X[0] <= 1.5\\ngini = 0.499\\nsamples = 63\\nvalue = [33, 30]'),\n",
              " Text(133.92, 100.9542857142857, 'X[1] <= 113.0\\ngini = 0.298\\nsamples = 11\\nvalue = [2, 9]'),\n",
              " Text(131.2416, 85.42285714285714, 'X[5] <= 36.15\\ngini = 0.444\\nsamples = 3\\nvalue = [2, 1]'),\n",
              " Text(128.5632, 69.89142857142858, 'gini = 0.0\\nsamples = 2\\nvalue = [2, 0]'),\n",
              " Text(133.92, 69.89142857142858, 'gini = 0.0\\nsamples = 1\\nvalue = [0, 1]'),\n",
              " Text(136.5984, 85.42285714285714, 'gini = 0.0\\nsamples = 8\\nvalue = [0, 8]'),\n",
              " Text(151.9992, 100.9542857142857, 'X[2] <= 67.0\\ngini = 0.482\\nsamples = 52\\nvalue = [31, 21]'),\n",
              " Text(141.9552, 85.42285714285714, 'X[6] <= 0.362\\ngini = 0.375\\nsamples = 12\\nvalue = [3, 9]'),\n",
              " Text(139.27679999999998, 69.89142857142858, 'gini = 0.0\\nsamples = 7\\nvalue = [0, 7]'),\n",
              " Text(144.6336, 69.89142857142858, 'X[5] <= 30.05\\ngini = 0.48\\nsamples = 5\\nvalue = [3, 2]'),\n",
              " Text(141.9552, 54.359999999999985, 'gini = 0.0\\nsamples = 2\\nvalue = [0, 2]'),\n",
              " Text(147.31199999999998, 54.359999999999985, 'gini = 0.0\\nsamples = 3\\nvalue = [3, 0]'),\n",
              " Text(162.04319999999998, 85.42285714285714, 'X[5] <= 34.45\\ngini = 0.42\\nsamples = 40\\nvalue = [28, 12]'),\n",
              " Text(155.3472, 69.89142857142858, 'X[2] <= 83.0\\ngini = 0.491\\nsamples = 23\\nvalue = [13, 10]'),\n",
              " Text(152.6688, 54.359999999999985, 'X[1] <= 120.0\\ngini = 0.499\\nsamples = 19\\nvalue = [9, 10]'),\n",
              " Text(147.31199999999998, 38.82857142857142, 'X[6] <= 0.252\\ngini = 0.346\\nsamples = 9\\nvalue = [2, 7]'),\n",
              " Text(144.6336, 23.29714285714286, 'gini = 0.0\\nsamples = 2\\nvalue = [2, 0]'),\n",
              " Text(149.9904, 23.29714285714286, 'gini = 0.0\\nsamples = 7\\nvalue = [0, 7]'),\n",
              " Text(158.0256, 38.82857142857142, 'X[6] <= 0.239\\ngini = 0.42\\nsamples = 10\\nvalue = [7, 3]'),\n",
              " Text(155.3472, 23.29714285714286, 'gini = 0.0\\nsamples = 2\\nvalue = [0, 2]'),\n",
              " Text(160.704, 23.29714285714286, 'X[7] <= 30.5\\ngini = 0.219\\nsamples = 8\\nvalue = [7, 1]'),\n",
              " Text(158.0256, 7.765714285714267, 'gini = 0.0\\nsamples = 1\\nvalue = [0, 1]'),\n",
              " Text(163.3824, 7.765714285714267, 'gini = 0.0\\nsamples = 7\\nvalue = [7, 0]'),\n",
              " Text(158.0256, 54.359999999999985, 'gini = 0.0\\nsamples = 4\\nvalue = [4, 0]'),\n",
              " Text(168.73919999999998, 69.89142857142858, 'X[0] <= 11.5\\ngini = 0.208\\nsamples = 17\\nvalue = [15, 2]'),\n",
              " Text(166.0608, 54.359999999999985, 'X[5] <= 43.1\\ngini = 0.117\\nsamples = 16\\nvalue = [15, 1]'),\n",
              " Text(163.3824, 38.82857142857142, 'gini = 0.0\\nsamples = 15\\nvalue = [15, 0]'),\n",
              " Text(168.73919999999998, 38.82857142857142, 'gini = 0.0\\nsamples = 1\\nvalue = [0, 1]'),\n",
              " Text(171.4176, 54.359999999999985, 'gini = 0.0\\nsamples = 1\\nvalue = [0, 1]'),\n",
              " Text(184.8096, 132.01714285714286, 'X[0] <= 6.5\\ngini = 0.389\\nsamples = 34\\nvalue = [9, 25]'),\n",
              " Text(182.13119999999998, 116.48571428571428, 'X[4] <= 120.5\\ngini = 0.49\\nsamples = 21\\nvalue = [9, 12]'),\n",
              " Text(174.096, 100.9542857142857, 'X[7] <= 34.5\\ngini = 0.463\\nsamples = 11\\nvalue = [7, 4]'),\n",
              " Text(171.4176, 85.42285714285714, 'gini = 0.0\\nsamples = 5\\nvalue = [5, 0]'),\n",
              " Text(176.77439999999999, 85.42285714285714, 'X[5] <= 33.15\\ngini = 0.444\\nsamples = 6\\nvalue = [2, 4]'),\n",
              " Text(174.096, 69.89142857142858, 'gini = 0.0\\nsamples = 4\\nvalue = [0, 4]'),\n",
              " Text(179.4528, 69.89142857142858, 'gini = 0.0\\nsamples = 2\\nvalue = [2, 0]'),\n",
              " Text(190.16639999999998, 100.9542857142857, 'X[4] <= 225.0\\ngini = 0.32\\nsamples = 10\\nvalue = [2, 8]'),\n",
              " Text(187.488, 85.42285714285714, 'X[3] <= 47.5\\ngini = 0.198\\nsamples = 9\\nvalue = [1, 8]'),\n",
              " Text(184.8096, 69.89142857142858, 'gini = 0.0\\nsamples = 8\\nvalue = [0, 8]'),\n",
              " Text(190.16639999999998, 69.89142857142858, 'gini = 0.0\\nsamples = 1\\nvalue = [1, 0]'),\n",
              " Text(192.8448, 85.42285714285714, 'gini = 0.0\\nsamples = 1\\nvalue = [1, 0]'),\n",
              " Text(187.488, 116.48571428571428, 'gini = 0.0\\nsamples = 13\\nvalue = [0, 13]'),\n",
              " Text(258.13079999999997, 194.14285714285714, 'X[5] <= 29.95\\ngini = 0.474\\nsamples = 283\\nvalue = [109, 174]'),\n",
              " Text(222.3072, 178.61142857142858, 'X[1] <= 145.5\\ngini = 0.432\\nsamples = 76\\nvalue = [52, 24]'),\n",
              " Text(214.272, 163.07999999999998, 'X[4] <= 132.5\\ngini = 0.25\\nsamples = 41\\nvalue = [35, 6]'),\n",
              " Text(211.59359999999998, 147.54857142857142, 'X[5] <= 28.15\\ngini = 0.337\\nsamples = 28\\nvalue = [22, 6]'),\n",
              " Text(206.2368, 132.01714285714286, 'X[2] <= 73.0\\ngini = 0.227\\nsamples = 23\\nvalue = [20, 3]'),\n",
              " Text(203.5584, 116.48571428571428, 'X[2] <= 71.0\\ngini = 0.444\\nsamples = 9\\nvalue = [6, 3]'),\n",
              " Text(200.88, 100.9542857142857, 'X[1] <= 129.5\\ngini = 0.375\\nsamples = 8\\nvalue = [6, 2]'),\n",
              " Text(198.20159999999998, 85.42285714285714, 'gini = 0.0\\nsamples = 1\\nvalue = [0, 1]'),\n",
              " Text(203.5584, 85.42285714285714, 'X[2] <= 56.0\\ngini = 0.245\\nsamples = 7\\nvalue = [6, 1]'),\n",
              " Text(200.88, 69.89142857142858, 'X[5] <= 26.15\\ngini = 0.5\\nsamples = 2\\nvalue = [1, 1]'),\n",
              " Text(198.20159999999998, 54.359999999999985, 'gini = 0.0\\nsamples = 1\\nvalue = [0, 1]'),\n",
              " Text(203.5584, 54.359999999999985, 'gini = 0.0\\nsamples = 1\\nvalue = [1, 0]'),\n",
              " Text(206.2368, 69.89142857142858, 'gini = 0.0\\nsamples = 5\\nvalue = [5, 0]'),\n",
              " Text(206.2368, 100.9542857142857, 'gini = 0.0\\nsamples = 1\\nvalue = [0, 1]'),\n",
              " Text(208.9152, 116.48571428571428, 'gini = 0.0\\nsamples = 14\\nvalue = [14, 0]'),\n",
              " Text(216.9504, 132.01714285714286, 'X[3] <= 21.0\\ngini = 0.48\\nsamples = 5\\nvalue = [2, 3]'),\n",
              " Text(214.272, 116.48571428571428, 'X[1] <= 135.0\\ngini = 0.444\\nsamples = 3\\nvalue = [2, 1]'),\n",
              " Text(211.59359999999998, 100.9542857142857, 'gini = 0.0\\nsamples = 1\\nvalue = [0, 1]'),\n",
              " Text(216.9504, 100.9542857142857, 'gini = 0.0\\nsamples = 2\\nvalue = [2, 0]'),\n",
              " Text(219.62879999999998, 116.48571428571428, 'gini = 0.0\\nsamples = 2\\nvalue = [0, 2]'),\n",
              " Text(216.9504, 147.54857142857142, 'gini = 0.0\\nsamples = 13\\nvalue = [13, 0]'),\n",
              " Text(230.3424, 163.07999999999998, 'X[7] <= 25.5\\ngini = 0.5\\nsamples = 35\\nvalue = [17, 18]'),\n",
              " Text(227.664, 147.54857142857142, 'gini = 0.0\\nsamples = 4\\nvalue = [4, 0]'),\n",
              " Text(233.02079999999998, 147.54857142857142, 'X[7] <= 61.0\\ngini = 0.487\\nsamples = 31\\nvalue = [13, 18]'),\n",
              " Text(230.3424, 132.01714285714286, 'X[5] <= 27.1\\ngini = 0.444\\nsamples = 27\\nvalue = [9, 18]'),\n",
              " Text(224.98559999999998, 116.48571428571428, 'X[5] <= 22.15\\ngini = 0.153\\nsamples = 12\\nvalue = [1, 11]'),\n",
              " Text(222.3072, 100.9542857142857, 'gini = 0.0\\nsamples = 1\\nvalue = [1, 0]'),\n",
              " Text(227.664, 100.9542857142857, 'gini = 0.0\\nsamples = 11\\nvalue = [0, 11]'),\n",
              " Text(235.6992, 116.48571428571428, 'X[2] <= 82.0\\ngini = 0.498\\nsamples = 15\\nvalue = [8, 7]'),\n",
              " Text(233.02079999999998, 100.9542857142857, 'X[6] <= 0.397\\ngini = 0.463\\nsamples = 11\\nvalue = [4, 7]'),\n",
              " Text(230.3424, 85.42285714285714, 'X[0] <= 6.5\\ngini = 0.219\\nsamples = 8\\nvalue = [1, 7]'),\n",
              " Text(227.664, 69.89142857142858, 'gini = 0.0\\nsamples = 7\\nvalue = [0, 7]'),\n",
              " Text(233.02079999999998, 69.89142857142858, 'gini = 0.0\\nsamples = 1\\nvalue = [1, 0]'),\n",
              " Text(235.6992, 85.42285714285714, 'gini = 0.0\\nsamples = 3\\nvalue = [3, 0]'),\n",
              " Text(238.3776, 100.9542857142857, 'gini = 0.0\\nsamples = 4\\nvalue = [4, 0]'),\n",
              " Text(235.6992, 132.01714285714286, 'gini = 0.0\\nsamples = 4\\nvalue = [4, 0]'),\n",
              " Text(293.95439999999996, 178.61142857142858, 'X[1] <= 157.5\\ngini = 0.399\\nsamples = 207\\nvalue = [57, 150]'),\n",
              " Text(265.83119999999997, 163.07999999999998, 'X[7] <= 30.5\\ngini = 0.476\\nsamples = 115\\nvalue = [45, 70]'),\n",
              " Text(251.7696, 147.54857142857142, 'X[2] <= 61.0\\ngini = 0.497\\nsamples = 50\\nvalue = [27, 23]'),\n",
              " Text(249.0912, 132.01714285714286, 'gini = 0.0\\nsamples = 10\\nvalue = [0, 10]'),\n",
              " Text(254.44799999999998, 132.01714285714286, 'X[5] <= 41.8\\ngini = 0.439\\nsamples = 40\\nvalue = [27, 13]'),\n",
              " Text(249.0912, 116.48571428571428, 'X[6] <= 1.141\\ngini = 0.35\\nsamples = 31\\nvalue = [24, 7]'),\n",
              " Text(246.4128, 100.9542857142857, 'X[0] <= 4.5\\ngini = 0.285\\nsamples = 29\\nvalue = [24, 5]'),\n",
              " Text(241.05599999999998, 85.42285714285714, 'X[2] <= 73.0\\ngini = 0.204\\nsamples = 26\\nvalue = [23, 3]'),\n",
              " Text(238.3776, 69.89142857142858, 'X[0] <= 0.5\\ngini = 0.42\\nsamples = 10\\nvalue = [7, 3]'),\n",
              " Text(233.02079999999998, 54.359999999999985, 'X[6] <= 0.183\\ngini = 0.444\\nsamples = 3\\nvalue = [1, 2]'),\n",
              " Text(230.3424, 38.82857142857142, 'gini = 0.0\\nsamples = 1\\nvalue = [1, 0]'),\n",
              " Text(235.6992, 38.82857142857142, 'gini = 0.0\\nsamples = 2\\nvalue = [0, 2]'),\n",
              " Text(243.7344, 54.359999999999985, 'X[5] <= 32.45\\ngini = 0.245\\nsamples = 7\\nvalue = [6, 1]'),\n",
              " Text(241.05599999999998, 38.82857142857142, 'gini = 0.0\\nsamples = 1\\nvalue = [0, 1]'),\n",
              " Text(246.4128, 38.82857142857142, 'gini = 0.0\\nsamples = 6\\nvalue = [6, 0]'),\n",
              " Text(243.7344, 69.89142857142858, 'gini = 0.0\\nsamples = 16\\nvalue = [16, 0]'),\n",
              " Text(251.7696, 85.42285714285714, 'X[2] <= 66.0\\ngini = 0.444\\nsamples = 3\\nvalue = [1, 2]'),\n",
              " Text(249.0912, 69.89142857142858, 'gini = 0.0\\nsamples = 1\\nvalue = [1, 0]'),\n",
              " Text(254.44799999999998, 69.89142857142858, 'gini = 0.0\\nsamples = 2\\nvalue = [0, 2]'),\n",
              " Text(251.7696, 100.9542857142857, 'gini = 0.0\\nsamples = 2\\nvalue = [0, 2]'),\n",
              " Text(259.8048, 116.48571428571428, 'X[1] <= 142.5\\ngini = 0.444\\nsamples = 9\\nvalue = [3, 6]'),\n",
              " Text(257.1264, 100.9542857142857, 'gini = 0.0\\nsamples = 4\\nvalue = [0, 4]'),\n",
              " Text(262.4832, 100.9542857142857, 'X[2] <= 87.5\\ngini = 0.48\\nsamples = 5\\nvalue = [3, 2]'),\n",
              " Text(259.8048, 85.42285714285714, 'gini = 0.0\\nsamples = 3\\nvalue = [3, 0]'),\n",
              " Text(265.16159999999996, 85.42285714285714, 'gini = 0.0\\nsamples = 2\\nvalue = [0, 2]'),\n",
              " Text(279.89279999999997, 147.54857142857142, 'X[6] <= 0.429\\ngini = 0.4\\nsamples = 65\\nvalue = [18, 47]'),\n",
              " Text(273.1968, 132.01714285714286, 'X[5] <= 45.55\\ngini = 0.497\\nsamples = 28\\nvalue = [13, 15]'),\n",
              " Text(270.5184, 116.48571428571428, 'X[6] <= 0.136\\ngini = 0.491\\nsamples = 23\\nvalue = [13, 10]'),\n",
              " Text(267.84, 100.9542857142857, 'gini = 0.0\\nsamples = 2\\nvalue = [0, 2]'),\n",
              " Text(273.1968, 100.9542857142857, 'X[5] <= 32.45\\ngini = 0.472\\nsamples = 21\\nvalue = [13, 8]'),\n",
              " Text(270.5184, 85.42285714285714, 'gini = 0.0\\nsamples = 5\\nvalue = [5, 0]'),\n",
              " Text(275.8752, 85.42285714285714, 'X[5] <= 33.05\\ngini = 0.5\\nsamples = 16\\nvalue = [8, 8]'),\n",
              " Text(273.1968, 69.89142857142858, 'gini = 0.0\\nsamples = 3\\nvalue = [0, 3]'),\n",
              " Text(278.55359999999996, 69.89142857142858, 'X[3] <= 30.0\\ngini = 0.473\\nsamples = 13\\nvalue = [8, 5]'),\n",
              " Text(273.1968, 54.359999999999985, 'X[6] <= 0.256\\ngini = 0.346\\nsamples = 9\\nvalue = [7, 2]'),\n",
              " Text(270.5184, 38.82857142857142, 'gini = 0.0\\nsamples = 4\\nvalue = [4, 0]'),\n",
              " Text(275.8752, 38.82857142857142, 'X[7] <= 42.0\\ngini = 0.48\\nsamples = 5\\nvalue = [3, 2]'),\n",
              " Text(273.1968, 23.29714285714286, 'gini = 0.0\\nsamples = 3\\nvalue = [3, 0]'),\n",
              " Text(278.55359999999996, 23.29714285714286, 'gini = 0.0\\nsamples = 2\\nvalue = [0, 2]'),\n",
              " Text(283.9104, 54.359999999999985, 'X[4] <= 44.0\\ngini = 0.375\\nsamples = 4\\nvalue = [1, 3]'),\n",
              " Text(281.23199999999997, 38.82857142857142, 'gini = 0.0\\nsamples = 1\\nvalue = [1, 0]'),\n",
              " Text(286.5888, 38.82857142857142, 'gini = 0.0\\nsamples = 3\\nvalue = [0, 3]'),\n",
              " Text(275.8752, 116.48571428571428, 'gini = 0.0\\nsamples = 5\\nvalue = [0, 5]'),\n",
              " Text(286.5888, 132.01714285714286, 'X[4] <= 333.5\\ngini = 0.234\\nsamples = 37\\nvalue = [5, 32]'),\n",
              " Text(281.23199999999997, 116.48571428571428, 'X[5] <= 40.05\\ngini = 0.161\\nsamples = 34\\nvalue = [3, 31]'),\n",
              " Text(278.55359999999996, 100.9542857142857, 'gini = 0.0\\nsamples = 24\\nvalue = [0, 24]'),\n",
              " Text(283.9104, 100.9542857142857, 'X[2] <= 80.0\\ngini = 0.42\\nsamples = 10\\nvalue = [3, 7]'),\n",
              " Text(281.23199999999997, 85.42285714285714, 'gini = 0.0\\nsamples = 7\\nvalue = [0, 7]'),\n",
              " Text(286.5888, 85.42285714285714, 'gini = 0.0\\nsamples = 3\\nvalue = [3, 0]'),\n",
              " Text(291.9456, 116.48571428571428, 'X[6] <= 0.581\\ngini = 0.444\\nsamples = 3\\nvalue = [2, 1]'),\n",
              " Text(289.2672, 100.9542857142857, 'gini = 0.0\\nsamples = 1\\nvalue = [0, 1]'),\n",
              " Text(294.62399999999997, 100.9542857142857, 'gini = 0.0\\nsamples = 2\\nvalue = [2, 0]'),\n",
              " Text(322.07759999999996, 163.07999999999998, 'X[4] <= 629.5\\ngini = 0.227\\nsamples = 92\\nvalue = [12, 80]'),\n",
              " Text(314.712, 147.54857142857142, 'X[6] <= 0.3\\ngini = 0.199\\nsamples = 89\\nvalue = [10, 79]'),\n",
              " Text(308.01599999999996, 132.01714285714286, 'X[6] <= 0.288\\ngini = 0.365\\nsamples = 25\\nvalue = [6, 19]'),\n",
              " Text(305.3376, 116.48571428571428, 'X[7] <= 37.5\\ngini = 0.287\\nsamples = 23\\nvalue = [4, 19]'),\n",
              " Text(299.9808, 100.9542857142857, 'X[1] <= 180.5\\ngini = 0.444\\nsamples = 9\\nvalue = [3, 6]'),\n",
              " Text(297.3024, 85.42285714285714, 'X[4] <= 87.5\\ngini = 0.5\\nsamples = 6\\nvalue = [3, 3]'),\n",
              " Text(294.62399999999997, 69.89142857142858, 'gini = 0.0\\nsamples = 2\\nvalue = [2, 0]'),\n",
              " Text(299.9808, 69.89142857142858, 'X[3] <= 38.0\\ngini = 0.375\\nsamples = 4\\nvalue = [1, 3]'),\n",
              " Text(297.3024, 54.359999999999985, 'gini = 0.0\\nsamples = 3\\nvalue = [0, 3]'),\n",
              " Text(302.6592, 54.359999999999985, 'gini = 0.0\\nsamples = 1\\nvalue = [1, 0]'),\n",
              " Text(302.6592, 85.42285714285714, 'gini = 0.0\\nsamples = 3\\nvalue = [0, 3]'),\n",
              " Text(310.6944, 100.9542857142857, 'X[7] <= 56.5\\ngini = 0.133\\nsamples = 14\\nvalue = [1, 13]'),\n",
              " Text(308.01599999999996, 85.42285714285714, 'gini = 0.0\\nsamples = 12\\nvalue = [0, 12]'),\n",
              " Text(313.3728, 85.42285714285714, 'X[3] <= 15.5\\ngini = 0.5\\nsamples = 2\\nvalue = [1, 1]'),\n",
              " Text(310.6944, 69.89142857142858, 'gini = 0.0\\nsamples = 1\\nvalue = [0, 1]'),\n",
              " Text(316.0512, 69.89142857142858, 'gini = 0.0\\nsamples = 1\\nvalue = [1, 0]'),\n",
              " Text(310.6944, 116.48571428571428, 'gini = 0.0\\nsamples = 2\\nvalue = [2, 0]'),\n",
              " Text(321.408, 132.01714285714286, 'X[7] <= 44.0\\ngini = 0.117\\nsamples = 64\\nvalue = [4, 60]'),\n",
              " Text(318.7296, 116.48571428571428, 'gini = 0.0\\nsamples = 47\\nvalue = [0, 47]'),\n",
              " Text(324.08639999999997, 116.48571428571428, 'X[0] <= 6.5\\ngini = 0.36\\nsamples = 17\\nvalue = [4, 13]'),\n",
              " Text(321.408, 100.9542857142857, 'X[7] <= 51.0\\ngini = 0.494\\nsamples = 9\\nvalue = [4, 5]'),\n",
              " Text(318.7296, 85.42285714285714, 'gini = 0.0\\nsamples = 3\\nvalue = [3, 0]'),\n",
              " Text(324.08639999999997, 85.42285714285714, 'X[4] <= 236.0\\ngini = 0.278\\nsamples = 6\\nvalue = [1, 5]'),\n",
              " Text(321.408, 69.89142857142858, 'gini = 0.0\\nsamples = 5\\nvalue = [0, 5]'),\n",
              " Text(326.7648, 69.89142857142858, 'gini = 0.0\\nsamples = 1\\nvalue = [1, 0]'),\n",
              " Text(326.7648, 100.9542857142857, 'gini = 0.0\\nsamples = 8\\nvalue = [0, 8]'),\n",
              " Text(329.4432, 147.54857142857142, 'X[7] <= 45.0\\ngini = 0.444\\nsamples = 3\\nvalue = [2, 1]'),\n",
              " Text(326.7648, 132.01714285714286, 'gini = 0.0\\nsamples = 2\\nvalue = [2, 0]'),\n",
              " Text(332.1216, 132.01714285714286, 'gini = 0.0\\nsamples = 1\\nvalue = [0, 1]')]"
            ]
          },
          "metadata": {
            "tags": []
          },
          "execution_count": 326
        },
        {
          "output_type": "display_data",
          "data": {
            "image/png": "[encoded data removed]",
            "text/plain": [
              "<Figure size 432x288 with 1 Axes>"
            ]
          },
          "metadata": {
            "tags": []
          }
        }
      ]
    },
    {
      "cell_type": "code",
      "metadata": {
        "id": "fNAPDL6QqLa3",
        "colab_type": "code",
        "outputId": "6144a3eb-5d7d-486a-e0a2-68d135514071",
        "colab": {
          "base_uri": "https://localhost:8080/",
          "height": 407
        }
      },
      "source": [
        "#data set of actual and predicted values\n",
        "sn=pd.DataFrame({'actual':y_test,'predicted':y_pred})\n",
        "sn"
      ],
      "execution_count": 0,
      "outputs": [
        {
          "output_type": "execute_result",
          "data": {
            "text/html": [
              "<div>\n",
              "<style scoped>\n",
              "    .dataframe tbody tr th:only-of-type {\n",
              "        vertical-align: middle;\n",
              "    }\n",
              "\n",
              "    .dataframe tbody tr th {\n",
              "        vertical-align: top;\n",
              "    }\n",
              "\n",
              "    .dataframe thead th {\n",
              "        text-align: right;\n",
              "    }\n",
              "</style>\n",
              "<table border=\"1\" class=\"dataframe\">\n",
              "  <thead>\n",
              "    <tr style=\"text-align: right;\">\n",
              "      <th></th>\n",
              "      <th>actual</th>\n",
              "      <th>predicted</th>\n",
              "    </tr>\n",
              "  </thead>\n",
              "  <tbody>\n",
              "    <tr>\n",
              "      <th>158</th>\n",
              "      <td>0</td>\n",
              "      <td>0</td>\n",
              "    </tr>\n",
              "    <tr>\n",
              "      <th>251</th>\n",
              "      <td>0</td>\n",
              "      <td>0</td>\n",
              "    </tr>\n",
              "    <tr>\n",
              "      <th>631</th>\n",
              "      <td>0</td>\n",
              "      <td>0</td>\n",
              "    </tr>\n",
              "    <tr>\n",
              "      <th>757</th>\n",
              "      <td>1</td>\n",
              "      <td>1</td>\n",
              "    </tr>\n",
              "    <tr>\n",
              "      <th>689</th>\n",
              "      <td>1</td>\n",
              "      <td>1</td>\n",
              "    </tr>\n",
              "    <tr>\n",
              "      <th>...</th>\n",
              "      <td>...</td>\n",
              "      <td>...</td>\n",
              "    </tr>\n",
              "    <tr>\n",
              "      <th>733</th>\n",
              "      <td>0</td>\n",
              "      <td>0</td>\n",
              "    </tr>\n",
              "    <tr>\n",
              "      <th>441</th>\n",
              "      <td>0</td>\n",
              "      <td>0</td>\n",
              "    </tr>\n",
              "    <tr>\n",
              "      <th>627</th>\n",
              "      <td>0</td>\n",
              "      <td>0</td>\n",
              "    </tr>\n",
              "    <tr>\n",
              "      <th>84</th>\n",
              "      <td>1</td>\n",
              "      <td>1</td>\n",
              "    </tr>\n",
              "    <tr>\n",
              "      <th>55</th>\n",
              "      <td>0</td>\n",
              "      <td>0</td>\n",
              "    </tr>\n",
              "  </tbody>\n",
              "</table>\n",
              "<p>154 rows × 2 columns</p>\n",
              "</div>"
            ],
            "text/plain": [
              "     actual  predicted\n",
              "158       0          0\n",
              "251       0          0\n",
              "631       0          0\n",
              "757       1          1\n",
              "689       1          1\n",
              "..      ...        ...\n",
              "733       0          0\n",
              "441       0          0\n",
              "627       0          0\n",
              "84        1          1\n",
              "55        0          0\n",
              "\n",
              "[154 rows x 2 columns]"
            ]
          },
          "metadata": {
            "tags": []
          },
          "execution_count": 328
        }
      ]
    },
    {
      "cell_type": "code",
      "metadata": {
        "id": "8P371ymcrQCd",
        "colab_type": "code",
        "outputId": "6c364eb1-2978-4ece-b794-b10f5a236d89",
        "colab": {
          "base_uri": "https://localhost:8080/",
          "height": 35
        }
      },
      "source": [
        "#accuracy of model\n",
        "print(accuracy_score(y_test,y_pred)*100)"
      ],
      "execution_count": 0,
      "outputs": [
        {
          "output_type": "stream",
          "text": [
            "70.77922077922078\n"
          ],
          "name": "stdout"
        }
      ]
    },
    {
      "cell_type": "code",
      "metadata": {
        "id": "OO2xG_XksLKH",
        "colab_type": "code",
        "outputId": "a9e43549-fc0f-42f7-a511-abe05fc5ade0",
        "colab": {
          "base_uri": "https://localhost:8080/",
          "height": 54
        }
      },
      "source": [
        "#confusion of matrix\n",
        "print(confusion_matrix(y_test,y_pred))"
      ],
      "execution_count": 0,
      "outputs": [
        {
          "output_type": "stream",
          "text": [
            "[[84 25]\n",
            " [20 25]]\n"
          ],
          "name": "stdout"
        }
      ]
    },
    {
      "cell_type": "code",
      "metadata": {
        "id": "0uzbRxKKsVTV",
        "colab_type": "code",
        "outputId": "53ea1a8e-ee8c-48d2-cc5d-bde42d8a9921",
        "colab": {
          "base_uri": "https://localhost:8080/",
          "height": 181
        }
      },
      "source": [
        "#classification report\n",
        "print(classification_report(y_test,y_pred))"
      ],
      "execution_count": 0,
      "outputs": [
        {
          "output_type": "stream",
          "text": [
            "              precision    recall  f1-score   support\n",
            "\n",
            "           0       0.81      0.77      0.79       109\n",
            "           1       0.50      0.56      0.53        45\n",
            "\n",
            "    accuracy                           0.71       154\n",
            "   macro avg       0.65      0.66      0.66       154\n",
            "weighted avg       0.72      0.71      0.71       154\n",
            "\n"
          ],
          "name": "stdout"
        }
      ]
    },
    {
      "cell_type": "code",
      "metadata": {
        "id": "Bh3uwOuhsb2P",
        "colab_type": "code",
        "outputId": "4a4d068f-3814-4335-f104-26e2eb0d1ab5",
        "colab": {
          "base_uri": "https://localhost:8080/",
          "height": 35
        }
      },
      "source": [
        "#roc and auc \n",
        "print(roc_auc_score(y_test,y_pred))"
      ],
      "execution_count": 0,
      "outputs": [
        {
          "output_type": "stream",
          "text": [
            "0.663098878695209\n"
          ],
          "name": "stdout"
        }
      ]
    },
    {
      "cell_type": "code",
      "metadata": {
        "id": "HpgDqiC_sjRX",
        "colab_type": "code",
        "outputId": "86e80fe0-bce1-4c6f-d7ce-ac5a2651229c",
        "colab": {
          "base_uri": "https://localhost:8080/",
          "height": 35
        }
      },
      "source": [
        "#error in the model\n",
        "print(mean_absolute_error(y_test,y_pred))"
      ],
      "execution_count": 0,
      "outputs": [
        {
          "output_type": "stream",
          "text": [
            "0.2922077922077922\n"
          ],
          "name": "stdout"
        }
      ]
    },
    {
      "cell_type": "code",
      "metadata": {
        "id": "SQtHpSQtsoXI",
        "colab_type": "code",
        "outputId": "e7496227-65d3-4271-dc78-e76de9a89163",
        "colab": {
          "base_uri": "https://localhost:8080/",
          "height": 138
        }
      },
      "source": [
        "#data frame of accuracy and error\n",
        "am=pd.DataFrame({'max_depth':[1,2,4],'accuracy_score':[70.7,70.7,70.7],'error':[0.29,0.29,0.29]})\n",
        "am"
      ],
      "execution_count": 0,
      "outputs": [
        {
          "output_type": "execute_result",
          "data": {
            "text/html": [
              "<div>\n",
              "<style scoped>\n",
              "    .dataframe tbody tr th:only-of-type {\n",
              "        vertical-align: middle;\n",
              "    }\n",
              "\n",
              "    .dataframe tbody tr th {\n",
              "        vertical-align: top;\n",
              "    }\n",
              "\n",
              "    .dataframe thead th {\n",
              "        text-align: right;\n",
              "    }\n",
              "</style>\n",
              "<table border=\"1\" class=\"dataframe\">\n",
              "  <thead>\n",
              "    <tr style=\"text-align: right;\">\n",
              "      <th></th>\n",
              "      <th>max_depth</th>\n",
              "      <th>accuracy_score</th>\n",
              "      <th>error</th>\n",
              "    </tr>\n",
              "  </thead>\n",
              "  <tbody>\n",
              "    <tr>\n",
              "      <th>0</th>\n",
              "      <td>1</td>\n",
              "      <td>70.7</td>\n",
              "      <td>0.29</td>\n",
              "    </tr>\n",
              "    <tr>\n",
              "      <th>1</th>\n",
              "      <td>2</td>\n",
              "      <td>70.7</td>\n",
              "      <td>0.29</td>\n",
              "    </tr>\n",
              "    <tr>\n",
              "      <th>2</th>\n",
              "      <td>4</td>\n",
              "      <td>70.7</td>\n",
              "      <td>0.29</td>\n",
              "    </tr>\n",
              "  </tbody>\n",
              "</table>\n",
              "</div>"
            ],
            "text/plain": [
              "   max_depth  accuracy_score  error\n",
              "0          1            70.7   0.29\n",
              "1          2            70.7   0.29\n",
              "2          4            70.7   0.29"
            ]
          },
          "metadata": {
            "tags": []
          },
          "execution_count": 350
        }
      ]
    },
    {
      "cell_type": "code",
      "metadata": {
        "id": "tsTPZwR4azv0",
        "colab_type": "code",
        "colab": {}
      },
      "source": [
        "# in this algorithim maximum accuracy is equal in all cases"
      ],
      "execution_count": 0,
      "outputs": []
    },
    {
      "cell_type": "code",
      "metadata": {
        "id": "pOtvoALduqj5",
        "colab_type": "code",
        "outputId": "0f234f47-0d4e-4f5e-fd5a-33806153e607",
        "colab": {
          "base_uri": "https://localhost:8080/",
          "height": 168
        }
      },
      "source": [
        "# now chossing the best accuracy for the dataset when we performed logistic regression,KNN,svm,decisiontree..\n",
        "msna=pd.DataFrame({'algorithim':['logistic regression','KNN','SVM','Decision tree'],'accuracy':[76.52337662337663,76.2987012987013,76.62337662337663,70.77922077922078]})\n",
        "msna"
      ],
      "execution_count": 7,
      "outputs": [
        {
          "output_type": "execute_result",
          "data": {
            "text/html": [
              "<div>\n",
              "<style scoped>\n",
              "    .dataframe tbody tr th:only-of-type {\n",
              "        vertical-align: middle;\n",
              "    }\n",
              "\n",
              "    .dataframe tbody tr th {\n",
              "        vertical-align: top;\n",
              "    }\n",
              "\n",
              "    .dataframe thead th {\n",
              "        text-align: right;\n",
              "    }\n",
              "</style>\n",
              "<table border=\"1\" class=\"dataframe\">\n",
              "  <thead>\n",
              "    <tr style=\"text-align: right;\">\n",
              "      <th></th>\n",
              "      <th>algorithim</th>\n",
              "      <th>accuracy</th>\n",
              "    </tr>\n",
              "  </thead>\n",
              "  <tbody>\n",
              "    <tr>\n",
              "      <th>0</th>\n",
              "      <td>logistic regression</td>\n",
              "      <td>76.523377</td>\n",
              "    </tr>\n",
              "    <tr>\n",
              "      <th>1</th>\n",
              "      <td>KNN</td>\n",
              "      <td>76.298701</td>\n",
              "    </tr>\n",
              "    <tr>\n",
              "      <th>2</th>\n",
              "      <td>SVM</td>\n",
              "      <td>76.623377</td>\n",
              "    </tr>\n",
              "    <tr>\n",
              "      <th>3</th>\n",
              "      <td>Decision tree</td>\n",
              "      <td>70.779221</td>\n",
              "    </tr>\n",
              "  </tbody>\n",
              "</table>\n",
              "</div>"
            ],
            "text/plain": [
              "            algorithim   accuracy\n",
              "0  logistic regression  76.523377\n",
              "1                  KNN  76.298701\n",
              "2                  SVM  76.623377\n",
              "3        Decision tree  70.779221"
            ]
          },
          "metadata": {
            "tags": []
          },
          "execution_count": 7
        }
      ]
    },
    {
      "cell_type": "markdown",
      "metadata": {
        "id": "oh1FLKcoxZuE",
        "colab_type": "text"
      },
      "source": [
        "# conclusion:"
      ]
    },
    {
      "cell_type": "markdown",
      "metadata": {
        "id": "sQ1y4vMjw4Y6",
        "colab_type": "text"
      },
      "source": [
        "Based on the accuracies we have got ..\n",
        "\n",
        "The best model for the given dataset is logistic regression and SVM.."
      ]
    },
    {
      "cell_type": "markdown",
      "metadata": {
        "id": "96y9nDgNt6hv",
        "colab_type": "text"
      },
      "source": [
        "# Group members are:\n",
        "1.B.Kamesh Sarvan(19pa1a0514)\n",
        "\n",
        "2.Ch.Bala Mahesh(19pa1a0534)\n",
        "\n",
        "3.G.Abhishek(19pa1a0548)\n",
        "\n",
        "4.C.Neeraj(19pa1a0527)\n",
        "\n",
        "5.D.Srikar(19pa1a0539)"
      ]
    }
  ]
}